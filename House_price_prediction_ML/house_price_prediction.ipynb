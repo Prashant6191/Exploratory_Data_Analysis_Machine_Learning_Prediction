{
  "nbformat": 4,
  "nbformat_minor": 0,
  "metadata": {
    "colab": {
      "provenance": []
    },
    "kernelspec": {
      "name": "python3",
      "display_name": "Python 3"
    },
    "language_info": {
      "name": "python"
    }
  },
  "cells": [
    {
      "cell_type": "markdown",
      "source": [
        "#Import necessary libraries"
      ],
      "metadata": {
        "id": "h7MvpqewaDrJ"
      }
    },
    {
      "cell_type": "code",
      "execution_count": null,
      "metadata": {
        "id": "bFodpIW8Z0bH"
      },
      "outputs": [],
      "source": [
        "import numpy as np\n",
        "import pandas as pd\n",
        "import matplotlib.pyplot as plt\n",
        "import seaborn as sns\n",
        "\n",
        "from sklearn.model_selection import train_test_split, cross_val_score\n",
        "from sklearn.linear_model import LogisticRegression\n",
        "from sklearn.neighbors import KNeighborsClassifier\n",
        "from sklearn.svm import SVC\n",
        "from sklearn.tree import DecisionTreeClassifier\n",
        "\n",
        "from sklearn.metrics import accuracy_score, classification_report\n",
        "\n",
        "import warnings\n",
        "warnings.filterwarnings(\"ignore\")"
      ]
    },
    {
      "cell_type": "code",
      "source": [
        "df = pd.read_csv(\"RealEstates.csv\")\n",
        "df.head()"
      ],
      "metadata": {
        "colab": {
          "base_uri": "https://localhost:8080/",
          "height": 406
        },
        "id": "Ru0B0Fb0Z8pR",
        "outputId": "559099f9-b02a-48d5-b9a8-cce1964487c4"
      },
      "execution_count": null,
      "outputs": [
        {
          "output_type": "execute_result",
          "data": {
            "text/plain": [
              "   ids  Avg. Area Income Avg. Area House Age Avg. Area Number of Rooms  \\\n",
              "0    0       79545.45857             missing                         ?   \n",
              "1    1       79248.64245         6.002899808               6.730821019   \n",
              "2    2       61287.06718          5.86588984                8.51272743   \n",
              "3    3       63345.24005         7.188236095                         ?   \n",
              "4    4       59982.19723         5.040554523               7.839387785   \n",
              "\n",
              "   Avg. Area Number of Bedrooms  Area Population                 Price  \\\n",
              "0                           NaN      23086.80050        $1,059,033.56    \n",
              "1                          3.09      40173.07217  Rs20078.545531292668   \n",
              "2                          5.13      36882.15940        $1,058,987.99    \n",
              "3                           NaN      34310.24283  Rs16808.224088392624   \n",
              "4                          4.23      26354.10947          $630,943.49    \n",
              "\n",
              "                                             Address  Avg Area Comfort  \n",
              "0  208 Michael Ferry Apt. 674\\nLaurabury, NE 3701...          0.289937  \n",
              "1  188 Johnson Views Suite 079\\nLake Kathleen, CA...               NaN  \n",
              "2  9127 Elizabeth Stravenue\\nDanieltown, WI 06482...               NaN  \n",
              "3                          USS Barnett\\nFPO AP 44820               NaN  \n",
              "4                         USNS Raymond\\nFPO AE 09386               NaN  "
            ],
            "text/html": [
              "\n",
              "  <div id=\"df-a82931fd-d770-40e3-a899-a99abe5bbde6\">\n",
              "    <div class=\"colab-df-container\">\n",
              "      <div>\n",
              "<style scoped>\n",
              "    .dataframe tbody tr th:only-of-type {\n",
              "        vertical-align: middle;\n",
              "    }\n",
              "\n",
              "    .dataframe tbody tr th {\n",
              "        vertical-align: top;\n",
              "    }\n",
              "\n",
              "    .dataframe thead th {\n",
              "        text-align: right;\n",
              "    }\n",
              "</style>\n",
              "<table border=\"1\" class=\"dataframe\">\n",
              "  <thead>\n",
              "    <tr style=\"text-align: right;\">\n",
              "      <th></th>\n",
              "      <th>ids</th>\n",
              "      <th>Avg. Area Income</th>\n",
              "      <th>Avg. Area House Age</th>\n",
              "      <th>Avg. Area Number of Rooms</th>\n",
              "      <th>Avg. Area Number of Bedrooms</th>\n",
              "      <th>Area Population</th>\n",
              "      <th>Price</th>\n",
              "      <th>Address</th>\n",
              "      <th>Avg Area Comfort</th>\n",
              "    </tr>\n",
              "  </thead>\n",
              "  <tbody>\n",
              "    <tr>\n",
              "      <th>0</th>\n",
              "      <td>0</td>\n",
              "      <td>79545.45857</td>\n",
              "      <td>missing</td>\n",
              "      <td>?</td>\n",
              "      <td>NaN</td>\n",
              "      <td>23086.80050</td>\n",
              "      <td>$1,059,033.56</td>\n",
              "      <td>208 Michael Ferry Apt. 674\\nLaurabury, NE 3701...</td>\n",
              "      <td>0.289937</td>\n",
              "    </tr>\n",
              "    <tr>\n",
              "      <th>1</th>\n",
              "      <td>1</td>\n",
              "      <td>79248.64245</td>\n",
              "      <td>6.002899808</td>\n",
              "      <td>6.730821019</td>\n",
              "      <td>3.09</td>\n",
              "      <td>40173.07217</td>\n",
              "      <td>Rs20078.545531292668</td>\n",
              "      <td>188 Johnson Views Suite 079\\nLake Kathleen, CA...</td>\n",
              "      <td>NaN</td>\n",
              "    </tr>\n",
              "    <tr>\n",
              "      <th>2</th>\n",
              "      <td>2</td>\n",
              "      <td>61287.06718</td>\n",
              "      <td>5.86588984</td>\n",
              "      <td>8.51272743</td>\n",
              "      <td>5.13</td>\n",
              "      <td>36882.15940</td>\n",
              "      <td>$1,058,987.99</td>\n",
              "      <td>9127 Elizabeth Stravenue\\nDanieltown, WI 06482...</td>\n",
              "      <td>NaN</td>\n",
              "    </tr>\n",
              "    <tr>\n",
              "      <th>3</th>\n",
              "      <td>3</td>\n",
              "      <td>63345.24005</td>\n",
              "      <td>7.188236095</td>\n",
              "      <td>?</td>\n",
              "      <td>NaN</td>\n",
              "      <td>34310.24283</td>\n",
              "      <td>Rs16808.224088392624</td>\n",
              "      <td>USS Barnett\\nFPO AP 44820</td>\n",
              "      <td>NaN</td>\n",
              "    </tr>\n",
              "    <tr>\n",
              "      <th>4</th>\n",
              "      <td>4</td>\n",
              "      <td>59982.19723</td>\n",
              "      <td>5.040554523</td>\n",
              "      <td>7.839387785</td>\n",
              "      <td>4.23</td>\n",
              "      <td>26354.10947</td>\n",
              "      <td>$630,943.49</td>\n",
              "      <td>USNS Raymond\\nFPO AE 09386</td>\n",
              "      <td>NaN</td>\n",
              "    </tr>\n",
              "  </tbody>\n",
              "</table>\n",
              "</div>\n",
              "      <button class=\"colab-df-convert\" onclick=\"convertToInteractive('df-a82931fd-d770-40e3-a899-a99abe5bbde6')\"\n",
              "              title=\"Convert this dataframe to an interactive table.\"\n",
              "              style=\"display:none;\">\n",
              "        \n",
              "  <svg xmlns=\"http://www.w3.org/2000/svg\" height=\"24px\"viewBox=\"0 0 24 24\"\n",
              "       width=\"24px\">\n",
              "    <path d=\"M0 0h24v24H0V0z\" fill=\"none\"/>\n",
              "    <path d=\"M18.56 5.44l.94 2.06.94-2.06 2.06-.94-2.06-.94-.94-2.06-.94 2.06-2.06.94zm-11 1L8.5 8.5l.94-2.06 2.06-.94-2.06-.94L8.5 2.5l-.94 2.06-2.06.94zm10 10l.94 2.06.94-2.06 2.06-.94-2.06-.94-.94-2.06-.94 2.06-2.06.94z\"/><path d=\"M17.41 7.96l-1.37-1.37c-.4-.4-.92-.59-1.43-.59-.52 0-1.04.2-1.43.59L10.3 9.45l-7.72 7.72c-.78.78-.78 2.05 0 2.83L4 21.41c.39.39.9.59 1.41.59.51 0 1.02-.2 1.41-.59l7.78-7.78 2.81-2.81c.8-.78.8-2.07 0-2.86zM5.41 20L4 18.59l7.72-7.72 1.47 1.35L5.41 20z\"/>\n",
              "  </svg>\n",
              "      </button>\n",
              "      \n",
              "  <style>\n",
              "    .colab-df-container {\n",
              "      display:flex;\n",
              "      flex-wrap:wrap;\n",
              "      gap: 12px;\n",
              "    }\n",
              "\n",
              "    .colab-df-convert {\n",
              "      background-color: #E8F0FE;\n",
              "      border: none;\n",
              "      border-radius: 50%;\n",
              "      cursor: pointer;\n",
              "      display: none;\n",
              "      fill: #1967D2;\n",
              "      height: 32px;\n",
              "      padding: 0 0 0 0;\n",
              "      width: 32px;\n",
              "    }\n",
              "\n",
              "    .colab-df-convert:hover {\n",
              "      background-color: #E2EBFA;\n",
              "      box-shadow: 0px 1px 2px rgba(60, 64, 67, 0.3), 0px 1px 3px 1px rgba(60, 64, 67, 0.15);\n",
              "      fill: #174EA6;\n",
              "    }\n",
              "\n",
              "    [theme=dark] .colab-df-convert {\n",
              "      background-color: #3B4455;\n",
              "      fill: #D2E3FC;\n",
              "    }\n",
              "\n",
              "    [theme=dark] .colab-df-convert:hover {\n",
              "      background-color: #434B5C;\n",
              "      box-shadow: 0px 1px 3px 1px rgba(0, 0, 0, 0.15);\n",
              "      filter: drop-shadow(0px 1px 2px rgba(0, 0, 0, 0.3));\n",
              "      fill: #FFFFFF;\n",
              "    }\n",
              "  </style>\n",
              "\n",
              "      <script>\n",
              "        const buttonEl =\n",
              "          document.querySelector('#df-a82931fd-d770-40e3-a899-a99abe5bbde6 button.colab-df-convert');\n",
              "        buttonEl.style.display =\n",
              "          google.colab.kernel.accessAllowed ? 'block' : 'none';\n",
              "\n",
              "        async function convertToInteractive(key) {\n",
              "          const element = document.querySelector('#df-a82931fd-d770-40e3-a899-a99abe5bbde6');\n",
              "          const dataTable =\n",
              "            await google.colab.kernel.invokeFunction('convertToInteractive',\n",
              "                                                     [key], {});\n",
              "          if (!dataTable) return;\n",
              "\n",
              "          const docLinkHtml = 'Like what you see? Visit the ' +\n",
              "            '<a target=\"_blank\" href=https://colab.research.google.com/notebooks/data_table.ipynb>data table notebook</a>'\n",
              "            + ' to learn more about interactive tables.';\n",
              "          element.innerHTML = '';\n",
              "          dataTable['output_type'] = 'display_data';\n",
              "          await google.colab.output.renderOutput(dataTable, element);\n",
              "          const docLink = document.createElement('div');\n",
              "          docLink.innerHTML = docLinkHtml;\n",
              "          element.appendChild(docLink);\n",
              "        }\n",
              "      </script>\n",
              "    </div>\n",
              "  </div>\n",
              "  "
            ]
          },
          "metadata": {},
          "execution_count": 2
        }
      ]
    },
    {
      "cell_type": "code",
      "source": [
        "df.info()"
      ],
      "metadata": {
        "colab": {
          "base_uri": "https://localhost:8080/"
        },
        "id": "L0KwpW8haPbY",
        "outputId": "4b5d554a-a595-4f81-8696-6958370b923e"
      },
      "execution_count": null,
      "outputs": [
        {
          "output_type": "stream",
          "name": "stdout",
          "text": [
            "<class 'pandas.core.frame.DataFrame'>\n",
            "RangeIndex: 5000 entries, 0 to 4999\n",
            "Data columns (total 9 columns):\n",
            " #   Column                        Non-Null Count  Dtype  \n",
            "---  ------                        --------------  -----  \n",
            " 0   ids                           5000 non-null   int64  \n",
            " 1   Avg. Area Income              5000 non-null   float64\n",
            " 2   Avg. Area House Age           5000 non-null   object \n",
            " 3   Avg. Area Number of Rooms     5000 non-null   object \n",
            " 4   Avg. Area Number of Bedrooms  3333 non-null   float64\n",
            " 5   Area Population               5000 non-null   float64\n",
            " 6   Price                         5000 non-null   object \n",
            " 7   Address                       5000 non-null   object \n",
            " 8   Avg Area Comfort              200 non-null    float64\n",
            "dtypes: float64(4), int64(1), object(4)\n",
            "memory usage: 351.7+ KB\n"
          ]
        }
      ]
    },
    {
      "cell_type": "code",
      "source": [
        "#From above we see that there is 5000 entries and 9 columns,\n",
        "#null values are present in avg area comfort and avg.area no. of bedrooms"
      ],
      "metadata": {
        "id": "_kbdL0EgNsRZ"
      },
      "execution_count": null,
      "outputs": []
    },
    {
      "cell_type": "code",
      "source": [
        "df['Avg. Area Number of Bedrooms'].replace('NaN',np.nan,inplace=True)"
      ],
      "metadata": {
        "id": "crcxsrZOO4qx"
      },
      "execution_count": null,
      "outputs": []
    },
    {
      "cell_type": "code",
      "source": [
        "df['Avg. Area Number of Bedrooms']=df['Avg. Area Number of Bedrooms'].astype('float64')"
      ],
      "metadata": {
        "id": "KEDLtTGSP8Ei"
      },
      "execution_count": null,
      "outputs": []
    },
    {
      "cell_type": "code",
      "source": [
        "anb_mean=df['Avg. Area Number of Bedrooms'].mean()\n",
        "anb_mean"
      ],
      "metadata": {
        "colab": {
          "base_uri": "https://localhost:8080/"
        },
        "id": "VDlmS57vQHRl",
        "outputId": "5de43f8c-2959-41d1-90f0-73dd2056dea7"
      },
      "execution_count": null,
      "outputs": [
        {
          "output_type": "execute_result",
          "data": {
            "text/plain": [
              "3.998082808280828"
            ]
          },
          "metadata": {},
          "execution_count": 7
        }
      ]
    },
    {
      "cell_type": "code",
      "source": [
        "df['Avg. Area Number of Bedrooms'].fillna(anb_mean,inplace=True)"
      ],
      "metadata": {
        "id": "urbaK8sNQPFy"
      },
      "execution_count": null,
      "outputs": []
    },
    {
      "cell_type": "markdown",
      "source": [
        "#Avg area of comfort have more than 80 % null values so we drop that column"
      ],
      "metadata": {
        "id": "wOu1mgImXOro"
      }
    },
    {
      "cell_type": "code",
      "source": [
        "df.drop('Avg Area Comfort',axis=1,inplace=True)"
      ],
      "metadata": {
        "id": "iAwnumdaQyL6"
      },
      "execution_count": null,
      "outputs": []
    },
    {
      "cell_type": "code",
      "source": [
        "df.head()"
      ],
      "metadata": {
        "colab": {
          "base_uri": "https://localhost:8080/",
          "height": 372
        },
        "id": "oZXyTvQ7RCTO",
        "outputId": "1dc8fd4b-730c-438a-8027-3b21102763f0"
      },
      "execution_count": null,
      "outputs": [
        {
          "output_type": "execute_result",
          "data": {
            "text/plain": [
              "   ids  Avg. Area Income Avg. Area House Age Avg. Area Number of Rooms  \\\n",
              "0    0       79545.45857             missing                         ?   \n",
              "1    1       79248.64245         6.002899808               6.730821019   \n",
              "2    2       61287.06718          5.86588984                8.51272743   \n",
              "3    3       63345.24005         7.188236095                         ?   \n",
              "4    4       59982.19723         5.040554523               7.839387785   \n",
              "\n",
              "   Avg. Area Number of Bedrooms  Area Population                 Price  \\\n",
              "0                      3.998083      23086.80050        $1,059,033.56    \n",
              "1                      3.090000      40173.07217  Rs20078.545531292668   \n",
              "2                      5.130000      36882.15940        $1,058,987.99    \n",
              "3                      3.998083      34310.24283  Rs16808.224088392624   \n",
              "4                      4.230000      26354.10947          $630,943.49    \n",
              "\n",
              "                                             Address  \n",
              "0  208 Michael Ferry Apt. 674\\nLaurabury, NE 3701...  \n",
              "1  188 Johnson Views Suite 079\\nLake Kathleen, CA...  \n",
              "2  9127 Elizabeth Stravenue\\nDanieltown, WI 06482...  \n",
              "3                          USS Barnett\\nFPO AP 44820  \n",
              "4                         USNS Raymond\\nFPO AE 09386  "
            ],
            "text/html": [
              "\n",
              "  <div id=\"df-da454937-384b-43be-8493-d1465bc48ea4\">\n",
              "    <div class=\"colab-df-container\">\n",
              "      <div>\n",
              "<style scoped>\n",
              "    .dataframe tbody tr th:only-of-type {\n",
              "        vertical-align: middle;\n",
              "    }\n",
              "\n",
              "    .dataframe tbody tr th {\n",
              "        vertical-align: top;\n",
              "    }\n",
              "\n",
              "    .dataframe thead th {\n",
              "        text-align: right;\n",
              "    }\n",
              "</style>\n",
              "<table border=\"1\" class=\"dataframe\">\n",
              "  <thead>\n",
              "    <tr style=\"text-align: right;\">\n",
              "      <th></th>\n",
              "      <th>ids</th>\n",
              "      <th>Avg. Area Income</th>\n",
              "      <th>Avg. Area House Age</th>\n",
              "      <th>Avg. Area Number of Rooms</th>\n",
              "      <th>Avg. Area Number of Bedrooms</th>\n",
              "      <th>Area Population</th>\n",
              "      <th>Price</th>\n",
              "      <th>Address</th>\n",
              "    </tr>\n",
              "  </thead>\n",
              "  <tbody>\n",
              "    <tr>\n",
              "      <th>0</th>\n",
              "      <td>0</td>\n",
              "      <td>79545.45857</td>\n",
              "      <td>missing</td>\n",
              "      <td>?</td>\n",
              "      <td>3.998083</td>\n",
              "      <td>23086.80050</td>\n",
              "      <td>$1,059,033.56</td>\n",
              "      <td>208 Michael Ferry Apt. 674\\nLaurabury, NE 3701...</td>\n",
              "    </tr>\n",
              "    <tr>\n",
              "      <th>1</th>\n",
              "      <td>1</td>\n",
              "      <td>79248.64245</td>\n",
              "      <td>6.002899808</td>\n",
              "      <td>6.730821019</td>\n",
              "      <td>3.090000</td>\n",
              "      <td>40173.07217</td>\n",
              "      <td>Rs20078.545531292668</td>\n",
              "      <td>188 Johnson Views Suite 079\\nLake Kathleen, CA...</td>\n",
              "    </tr>\n",
              "    <tr>\n",
              "      <th>2</th>\n",
              "      <td>2</td>\n",
              "      <td>61287.06718</td>\n",
              "      <td>5.86588984</td>\n",
              "      <td>8.51272743</td>\n",
              "      <td>5.130000</td>\n",
              "      <td>36882.15940</td>\n",
              "      <td>$1,058,987.99</td>\n",
              "      <td>9127 Elizabeth Stravenue\\nDanieltown, WI 06482...</td>\n",
              "    </tr>\n",
              "    <tr>\n",
              "      <th>3</th>\n",
              "      <td>3</td>\n",
              "      <td>63345.24005</td>\n",
              "      <td>7.188236095</td>\n",
              "      <td>?</td>\n",
              "      <td>3.998083</td>\n",
              "      <td>34310.24283</td>\n",
              "      <td>Rs16808.224088392624</td>\n",
              "      <td>USS Barnett\\nFPO AP 44820</td>\n",
              "    </tr>\n",
              "    <tr>\n",
              "      <th>4</th>\n",
              "      <td>4</td>\n",
              "      <td>59982.19723</td>\n",
              "      <td>5.040554523</td>\n",
              "      <td>7.839387785</td>\n",
              "      <td>4.230000</td>\n",
              "      <td>26354.10947</td>\n",
              "      <td>$630,943.49</td>\n",
              "      <td>USNS Raymond\\nFPO AE 09386</td>\n",
              "    </tr>\n",
              "  </tbody>\n",
              "</table>\n",
              "</div>\n",
              "      <button class=\"colab-df-convert\" onclick=\"convertToInteractive('df-da454937-384b-43be-8493-d1465bc48ea4')\"\n",
              "              title=\"Convert this dataframe to an interactive table.\"\n",
              "              style=\"display:none;\">\n",
              "        \n",
              "  <svg xmlns=\"http://www.w3.org/2000/svg\" height=\"24px\"viewBox=\"0 0 24 24\"\n",
              "       width=\"24px\">\n",
              "    <path d=\"M0 0h24v24H0V0z\" fill=\"none\"/>\n",
              "    <path d=\"M18.56 5.44l.94 2.06.94-2.06 2.06-.94-2.06-.94-.94-2.06-.94 2.06-2.06.94zm-11 1L8.5 8.5l.94-2.06 2.06-.94-2.06-.94L8.5 2.5l-.94 2.06-2.06.94zm10 10l.94 2.06.94-2.06 2.06-.94-2.06-.94-.94-2.06-.94 2.06-2.06.94z\"/><path d=\"M17.41 7.96l-1.37-1.37c-.4-.4-.92-.59-1.43-.59-.52 0-1.04.2-1.43.59L10.3 9.45l-7.72 7.72c-.78.78-.78 2.05 0 2.83L4 21.41c.39.39.9.59 1.41.59.51 0 1.02-.2 1.41-.59l7.78-7.78 2.81-2.81c.8-.78.8-2.07 0-2.86zM5.41 20L4 18.59l7.72-7.72 1.47 1.35L5.41 20z\"/>\n",
              "  </svg>\n",
              "      </button>\n",
              "      \n",
              "  <style>\n",
              "    .colab-df-container {\n",
              "      display:flex;\n",
              "      flex-wrap:wrap;\n",
              "      gap: 12px;\n",
              "    }\n",
              "\n",
              "    .colab-df-convert {\n",
              "      background-color: #E8F0FE;\n",
              "      border: none;\n",
              "      border-radius: 50%;\n",
              "      cursor: pointer;\n",
              "      display: none;\n",
              "      fill: #1967D2;\n",
              "      height: 32px;\n",
              "      padding: 0 0 0 0;\n",
              "      width: 32px;\n",
              "    }\n",
              "\n",
              "    .colab-df-convert:hover {\n",
              "      background-color: #E2EBFA;\n",
              "      box-shadow: 0px 1px 2px rgba(60, 64, 67, 0.3), 0px 1px 3px 1px rgba(60, 64, 67, 0.15);\n",
              "      fill: #174EA6;\n",
              "    }\n",
              "\n",
              "    [theme=dark] .colab-df-convert {\n",
              "      background-color: #3B4455;\n",
              "      fill: #D2E3FC;\n",
              "    }\n",
              "\n",
              "    [theme=dark] .colab-df-convert:hover {\n",
              "      background-color: #434B5C;\n",
              "      box-shadow: 0px 1px 3px 1px rgba(0, 0, 0, 0.15);\n",
              "      filter: drop-shadow(0px 1px 2px rgba(0, 0, 0, 0.3));\n",
              "      fill: #FFFFFF;\n",
              "    }\n",
              "  </style>\n",
              "\n",
              "      <script>\n",
              "        const buttonEl =\n",
              "          document.querySelector('#df-da454937-384b-43be-8493-d1465bc48ea4 button.colab-df-convert');\n",
              "        buttonEl.style.display =\n",
              "          google.colab.kernel.accessAllowed ? 'block' : 'none';\n",
              "\n",
              "        async function convertToInteractive(key) {\n",
              "          const element = document.querySelector('#df-da454937-384b-43be-8493-d1465bc48ea4');\n",
              "          const dataTable =\n",
              "            await google.colab.kernel.invokeFunction('convertToInteractive',\n",
              "                                                     [key], {});\n",
              "          if (!dataTable) return;\n",
              "\n",
              "          const docLinkHtml = 'Like what you see? Visit the ' +\n",
              "            '<a target=\"_blank\" href=https://colab.research.google.com/notebooks/data_table.ipynb>data table notebook</a>'\n",
              "            + ' to learn more about interactive tables.';\n",
              "          element.innerHTML = '';\n",
              "          dataTable['output_type'] = 'display_data';\n",
              "          await google.colab.output.renderOutput(dataTable, element);\n",
              "          const docLink = document.createElement('div');\n",
              "          docLink.innerHTML = docLinkHtml;\n",
              "          element.appendChild(docLink);\n",
              "        }\n",
              "      </script>\n",
              "    </div>\n",
              "  </div>\n",
              "  "
            ]
          },
          "metadata": {},
          "execution_count": 10
        }
      ]
    },
    {
      "cell_type": "code",
      "source": [
        "df['Avg. Area House Age'].replace('missing',np.nan,inplace=True)"
      ],
      "metadata": {
        "id": "YAXLuyRmRJRx"
      },
      "execution_count": null,
      "outputs": []
    },
    {
      "cell_type": "code",
      "source": [
        "df['Avg. Area House Age']=df['Avg. Area House Age'].astype('float64')"
      ],
      "metadata": {
        "id": "JKyQHxohRda8"
      },
      "execution_count": null,
      "outputs": []
    },
    {
      "cell_type": "code",
      "source": [
        "ah_mean=df['Avg. Area House Age'].mean()\n",
        "ah_mean"
      ],
      "metadata": {
        "colab": {
          "base_uri": "https://localhost:8080/"
        },
        "id": "9ZoXmraNRljQ",
        "outputId": "382316d6-9135-41dc-f5e1-d376a94d6e8d"
      },
      "execution_count": null,
      "outputs": [
        {
          "output_type": "execute_result",
          "data": {
            "text/plain": [
              "5.976819900733734"
            ]
          },
          "metadata": {},
          "execution_count": 13
        }
      ]
    },
    {
      "cell_type": "code",
      "source": [
        "df['Avg. Area House Age'].fillna(ah_mean,inplace=True)"
      ],
      "metadata": {
        "id": "luvC283cR5wi"
      },
      "execution_count": null,
      "outputs": []
    },
    {
      "cell_type": "code",
      "source": [
        "df['Avg. Area Number of Rooms'].replace('?',np.nan,inplace=True)"
      ],
      "metadata": {
        "id": "YxOY39WTSKVs"
      },
      "execution_count": null,
      "outputs": []
    },
    {
      "cell_type": "code",
      "source": [
        "df['Avg. Area Number of Rooms']=df['Avg. Area Number of Rooms'].astype('float64')"
      ],
      "metadata": {
        "id": "fV3W7j3vSlFe"
      },
      "execution_count": null,
      "outputs": []
    },
    {
      "cell_type": "code",
      "source": [
        "anr_mean=df['Avg. Area Number of Rooms'].mean()"
      ],
      "metadata": {
        "id": "lRPsBiGhTKqn"
      },
      "execution_count": null,
      "outputs": []
    },
    {
      "cell_type": "code",
      "source": [
        "anr_mean=df['Avg. Area Number of Rooms'].fillna(anr_mean,inplace=True)"
      ],
      "metadata": {
        "id": "lDfhoa64Sr1H"
      },
      "execution_count": null,
      "outputs": []
    },
    {
      "cell_type": "code",
      "source": [
        "df.head()"
      ],
      "metadata": {
        "colab": {
          "base_uri": "https://localhost:8080/",
          "height": 372
        },
        "id": "RFLrHjIxTFQN",
        "outputId": "16eefbda-dbfa-41bf-d776-a35a72ea8d0e"
      },
      "execution_count": null,
      "outputs": [
        {
          "output_type": "execute_result",
          "data": {
            "text/plain": [
              "   ids  Avg. Area Income  Avg. Area House Age  Avg. Area Number of Rooms  \\\n",
              "0    0       79545.45857             5.976820                   6.994414   \n",
              "1    1       79248.64245             6.002900                   6.730821   \n",
              "2    2       61287.06718             5.865890                   8.512727   \n",
              "3    3       63345.24005             7.188236                   6.994414   \n",
              "4    4       59982.19723             5.040555                   7.839388   \n",
              "\n",
              "   Avg. Area Number of Bedrooms  Area Population                 Price  \\\n",
              "0                      3.998083      23086.80050        $1,059,033.56    \n",
              "1                      3.090000      40173.07217  Rs20078.545531292668   \n",
              "2                      5.130000      36882.15940        $1,058,987.99    \n",
              "3                      3.998083      34310.24283  Rs16808.224088392624   \n",
              "4                      4.230000      26354.10947          $630,943.49    \n",
              "\n",
              "                                             Address  \n",
              "0  208 Michael Ferry Apt. 674\\nLaurabury, NE 3701...  \n",
              "1  188 Johnson Views Suite 079\\nLake Kathleen, CA...  \n",
              "2  9127 Elizabeth Stravenue\\nDanieltown, WI 06482...  \n",
              "3                          USS Barnett\\nFPO AP 44820  \n",
              "4                         USNS Raymond\\nFPO AE 09386  "
            ],
            "text/html": [
              "\n",
              "  <div id=\"df-b272708b-668e-41de-af26-3069ae54d5c9\">\n",
              "    <div class=\"colab-df-container\">\n",
              "      <div>\n",
              "<style scoped>\n",
              "    .dataframe tbody tr th:only-of-type {\n",
              "        vertical-align: middle;\n",
              "    }\n",
              "\n",
              "    .dataframe tbody tr th {\n",
              "        vertical-align: top;\n",
              "    }\n",
              "\n",
              "    .dataframe thead th {\n",
              "        text-align: right;\n",
              "    }\n",
              "</style>\n",
              "<table border=\"1\" class=\"dataframe\">\n",
              "  <thead>\n",
              "    <tr style=\"text-align: right;\">\n",
              "      <th></th>\n",
              "      <th>ids</th>\n",
              "      <th>Avg. Area Income</th>\n",
              "      <th>Avg. Area House Age</th>\n",
              "      <th>Avg. Area Number of Rooms</th>\n",
              "      <th>Avg. Area Number of Bedrooms</th>\n",
              "      <th>Area Population</th>\n",
              "      <th>Price</th>\n",
              "      <th>Address</th>\n",
              "    </tr>\n",
              "  </thead>\n",
              "  <tbody>\n",
              "    <tr>\n",
              "      <th>0</th>\n",
              "      <td>0</td>\n",
              "      <td>79545.45857</td>\n",
              "      <td>5.976820</td>\n",
              "      <td>6.994414</td>\n",
              "      <td>3.998083</td>\n",
              "      <td>23086.80050</td>\n",
              "      <td>$1,059,033.56</td>\n",
              "      <td>208 Michael Ferry Apt. 674\\nLaurabury, NE 3701...</td>\n",
              "    </tr>\n",
              "    <tr>\n",
              "      <th>1</th>\n",
              "      <td>1</td>\n",
              "      <td>79248.64245</td>\n",
              "      <td>6.002900</td>\n",
              "      <td>6.730821</td>\n",
              "      <td>3.090000</td>\n",
              "      <td>40173.07217</td>\n",
              "      <td>Rs20078.545531292668</td>\n",
              "      <td>188 Johnson Views Suite 079\\nLake Kathleen, CA...</td>\n",
              "    </tr>\n",
              "    <tr>\n",
              "      <th>2</th>\n",
              "      <td>2</td>\n",
              "      <td>61287.06718</td>\n",
              "      <td>5.865890</td>\n",
              "      <td>8.512727</td>\n",
              "      <td>5.130000</td>\n",
              "      <td>36882.15940</td>\n",
              "      <td>$1,058,987.99</td>\n",
              "      <td>9127 Elizabeth Stravenue\\nDanieltown, WI 06482...</td>\n",
              "    </tr>\n",
              "    <tr>\n",
              "      <th>3</th>\n",
              "      <td>3</td>\n",
              "      <td>63345.24005</td>\n",
              "      <td>7.188236</td>\n",
              "      <td>6.994414</td>\n",
              "      <td>3.998083</td>\n",
              "      <td>34310.24283</td>\n",
              "      <td>Rs16808.224088392624</td>\n",
              "      <td>USS Barnett\\nFPO AP 44820</td>\n",
              "    </tr>\n",
              "    <tr>\n",
              "      <th>4</th>\n",
              "      <td>4</td>\n",
              "      <td>59982.19723</td>\n",
              "      <td>5.040555</td>\n",
              "      <td>7.839388</td>\n",
              "      <td>4.230000</td>\n",
              "      <td>26354.10947</td>\n",
              "      <td>$630,943.49</td>\n",
              "      <td>USNS Raymond\\nFPO AE 09386</td>\n",
              "    </tr>\n",
              "  </tbody>\n",
              "</table>\n",
              "</div>\n",
              "      <button class=\"colab-df-convert\" onclick=\"convertToInteractive('df-b272708b-668e-41de-af26-3069ae54d5c9')\"\n",
              "              title=\"Convert this dataframe to an interactive table.\"\n",
              "              style=\"display:none;\">\n",
              "        \n",
              "  <svg xmlns=\"http://www.w3.org/2000/svg\" height=\"24px\"viewBox=\"0 0 24 24\"\n",
              "       width=\"24px\">\n",
              "    <path d=\"M0 0h24v24H0V0z\" fill=\"none\"/>\n",
              "    <path d=\"M18.56 5.44l.94 2.06.94-2.06 2.06-.94-2.06-.94-.94-2.06-.94 2.06-2.06.94zm-11 1L8.5 8.5l.94-2.06 2.06-.94-2.06-.94L8.5 2.5l-.94 2.06-2.06.94zm10 10l.94 2.06.94-2.06 2.06-.94-2.06-.94-.94-2.06-.94 2.06-2.06.94z\"/><path d=\"M17.41 7.96l-1.37-1.37c-.4-.4-.92-.59-1.43-.59-.52 0-1.04.2-1.43.59L10.3 9.45l-7.72 7.72c-.78.78-.78 2.05 0 2.83L4 21.41c.39.39.9.59 1.41.59.51 0 1.02-.2 1.41-.59l7.78-7.78 2.81-2.81c.8-.78.8-2.07 0-2.86zM5.41 20L4 18.59l7.72-7.72 1.47 1.35L5.41 20z\"/>\n",
              "  </svg>\n",
              "      </button>\n",
              "      \n",
              "  <style>\n",
              "    .colab-df-container {\n",
              "      display:flex;\n",
              "      flex-wrap:wrap;\n",
              "      gap: 12px;\n",
              "    }\n",
              "\n",
              "    .colab-df-convert {\n",
              "      background-color: #E8F0FE;\n",
              "      border: none;\n",
              "      border-radius: 50%;\n",
              "      cursor: pointer;\n",
              "      display: none;\n",
              "      fill: #1967D2;\n",
              "      height: 32px;\n",
              "      padding: 0 0 0 0;\n",
              "      width: 32px;\n",
              "    }\n",
              "\n",
              "    .colab-df-convert:hover {\n",
              "      background-color: #E2EBFA;\n",
              "      box-shadow: 0px 1px 2px rgba(60, 64, 67, 0.3), 0px 1px 3px 1px rgba(60, 64, 67, 0.15);\n",
              "      fill: #174EA6;\n",
              "    }\n",
              "\n",
              "    [theme=dark] .colab-df-convert {\n",
              "      background-color: #3B4455;\n",
              "      fill: #D2E3FC;\n",
              "    }\n",
              "\n",
              "    [theme=dark] .colab-df-convert:hover {\n",
              "      background-color: #434B5C;\n",
              "      box-shadow: 0px 1px 3px 1px rgba(0, 0, 0, 0.15);\n",
              "      filter: drop-shadow(0px 1px 2px rgba(0, 0, 0, 0.3));\n",
              "      fill: #FFFFFF;\n",
              "    }\n",
              "  </style>\n",
              "\n",
              "      <script>\n",
              "        const buttonEl =\n",
              "          document.querySelector('#df-b272708b-668e-41de-af26-3069ae54d5c9 button.colab-df-convert');\n",
              "        buttonEl.style.display =\n",
              "          google.colab.kernel.accessAllowed ? 'block' : 'none';\n",
              "\n",
              "        async function convertToInteractive(key) {\n",
              "          const element = document.querySelector('#df-b272708b-668e-41de-af26-3069ae54d5c9');\n",
              "          const dataTable =\n",
              "            await google.colab.kernel.invokeFunction('convertToInteractive',\n",
              "                                                     [key], {});\n",
              "          if (!dataTable) return;\n",
              "\n",
              "          const docLinkHtml = 'Like what you see? Visit the ' +\n",
              "            '<a target=\"_blank\" href=https://colab.research.google.com/notebooks/data_table.ipynb>data table notebook</a>'\n",
              "            + ' to learn more about interactive tables.';\n",
              "          element.innerHTML = '';\n",
              "          dataTable['output_type'] = 'display_data';\n",
              "          await google.colab.output.renderOutput(dataTable, element);\n",
              "          const docLink = document.createElement('div');\n",
              "          docLink.innerHTML = docLinkHtml;\n",
              "          element.appendChild(docLink);\n",
              "        }\n",
              "      </script>\n",
              "    </div>\n",
              "  </div>\n",
              "  "
            ]
          },
          "metadata": {},
          "execution_count": 19
        }
      ]
    },
    {
      "cell_type": "code",
      "source": [
        "df.info()"
      ],
      "metadata": {
        "colab": {
          "base_uri": "https://localhost:8080/"
        },
        "id": "YNadp9laTUNg",
        "outputId": "f9c5664c-af85-4dcf-d25c-c20471fcc0aa"
      },
      "execution_count": null,
      "outputs": [
        {
          "output_type": "stream",
          "name": "stdout",
          "text": [
            "<class 'pandas.core.frame.DataFrame'>\n",
            "RangeIndex: 5000 entries, 0 to 4999\n",
            "Data columns (total 8 columns):\n",
            " #   Column                        Non-Null Count  Dtype  \n",
            "---  ------                        --------------  -----  \n",
            " 0   ids                           5000 non-null   int64  \n",
            " 1   Avg. Area Income              5000 non-null   float64\n",
            " 2   Avg. Area House Age           5000 non-null   float64\n",
            " 3   Avg. Area Number of Rooms     5000 non-null   float64\n",
            " 4   Avg. Area Number of Bedrooms  5000 non-null   float64\n",
            " 5   Area Population               5000 non-null   float64\n",
            " 6   Price                         5000 non-null   object \n",
            " 7   Address                       5000 non-null   object \n",
            "dtypes: float64(5), int64(1), object(2)\n",
            "memory usage: 312.6+ KB\n"
          ]
        }
      ]
    },
    {
      "cell_type": "code",
      "source": [
        "df['Address'][1].split()[-2]"
      ],
      "metadata": {
        "colab": {
          "base_uri": "https://localhost:8080/",
          "height": 35
        },
        "id": "RFcJDlyGTaaf",
        "outputId": "87903d68-9e16-4159-eb7a-29bc2a471665"
      },
      "execution_count": null,
      "outputs": [
        {
          "output_type": "execute_result",
          "data": {
            "text/plain": [
              "'CA'"
            ],
            "application/vnd.google.colaboratory.intrinsic+json": {
              "type": "string"
            }
          },
          "metadata": {},
          "execution_count": 21
        }
      ]
    },
    {
      "cell_type": "code",
      "source": [
        "def state(x):\n",
        "  s=x.split()[-2]\n",
        "  return s"
      ],
      "metadata": {
        "id": "L8aHKkiHUBvM"
      },
      "execution_count": null,
      "outputs": []
    },
    {
      "cell_type": "code",
      "source": [
        "df['state']=df['Address'].apply(state)"
      ],
      "metadata": {
        "id": "zeNfIS5LUpKc"
      },
      "execution_count": null,
      "outputs": []
    },
    {
      "cell_type": "code",
      "source": [
        "df['state']"
      ],
      "metadata": {
        "colab": {
          "base_uri": "https://localhost:8080/"
        },
        "id": "8wNv05f6U58v",
        "outputId": "b719d696-6d3c-4bb9-d2bc-2d6054b07429"
      },
      "execution_count": null,
      "outputs": [
        {
          "output_type": "execute_result",
          "data": {
            "text/plain": [
              "0       NE\n",
              "1       CA\n",
              "2       WI\n",
              "3       AP\n",
              "4       AE\n",
              "        ..\n",
              "4995    AP\n",
              "4996    AA\n",
              "4997    VA\n",
              "4998    AE\n",
              "4999    NV\n",
              "Name: state, Length: 5000, dtype: object"
            ]
          },
          "metadata": {},
          "execution_count": 24
        }
      ]
    },
    {
      "cell_type": "code",
      "source": [
        "df.head()"
      ],
      "metadata": {
        "colab": {
          "base_uri": "https://localhost:8080/",
          "height": 372
        },
        "id": "yNAYtMFTU8Lf",
        "outputId": "39467b04-6d4c-4834-8f81-60398667ac81"
      },
      "execution_count": null,
      "outputs": [
        {
          "output_type": "execute_result",
          "data": {
            "text/plain": [
              "   ids  Avg. Area Income  Avg. Area House Age  Avg. Area Number of Rooms  \\\n",
              "0    0       79545.45857             5.976820                   6.994414   \n",
              "1    1       79248.64245             6.002900                   6.730821   \n",
              "2    2       61287.06718             5.865890                   8.512727   \n",
              "3    3       63345.24005             7.188236                   6.994414   \n",
              "4    4       59982.19723             5.040555                   7.839388   \n",
              "\n",
              "   Avg. Area Number of Bedrooms  Area Population                 Price  \\\n",
              "0                      3.998083      23086.80050        $1,059,033.56    \n",
              "1                      3.090000      40173.07217  Rs20078.545531292668   \n",
              "2                      5.130000      36882.15940        $1,058,987.99    \n",
              "3                      3.998083      34310.24283  Rs16808.224088392624   \n",
              "4                      4.230000      26354.10947          $630,943.49    \n",
              "\n",
              "                                             Address state  \n",
              "0  208 Michael Ferry Apt. 674\\nLaurabury, NE 3701...    NE  \n",
              "1  188 Johnson Views Suite 079\\nLake Kathleen, CA...    CA  \n",
              "2  9127 Elizabeth Stravenue\\nDanieltown, WI 06482...    WI  \n",
              "3                          USS Barnett\\nFPO AP 44820    AP  \n",
              "4                         USNS Raymond\\nFPO AE 09386    AE  "
            ],
            "text/html": [
              "\n",
              "  <div id=\"df-23ffb839-27f7-44e0-9301-4de301295f16\">\n",
              "    <div class=\"colab-df-container\">\n",
              "      <div>\n",
              "<style scoped>\n",
              "    .dataframe tbody tr th:only-of-type {\n",
              "        vertical-align: middle;\n",
              "    }\n",
              "\n",
              "    .dataframe tbody tr th {\n",
              "        vertical-align: top;\n",
              "    }\n",
              "\n",
              "    .dataframe thead th {\n",
              "        text-align: right;\n",
              "    }\n",
              "</style>\n",
              "<table border=\"1\" class=\"dataframe\">\n",
              "  <thead>\n",
              "    <tr style=\"text-align: right;\">\n",
              "      <th></th>\n",
              "      <th>ids</th>\n",
              "      <th>Avg. Area Income</th>\n",
              "      <th>Avg. Area House Age</th>\n",
              "      <th>Avg. Area Number of Rooms</th>\n",
              "      <th>Avg. Area Number of Bedrooms</th>\n",
              "      <th>Area Population</th>\n",
              "      <th>Price</th>\n",
              "      <th>Address</th>\n",
              "      <th>state</th>\n",
              "    </tr>\n",
              "  </thead>\n",
              "  <tbody>\n",
              "    <tr>\n",
              "      <th>0</th>\n",
              "      <td>0</td>\n",
              "      <td>79545.45857</td>\n",
              "      <td>5.976820</td>\n",
              "      <td>6.994414</td>\n",
              "      <td>3.998083</td>\n",
              "      <td>23086.80050</td>\n",
              "      <td>$1,059,033.56</td>\n",
              "      <td>208 Michael Ferry Apt. 674\\nLaurabury, NE 3701...</td>\n",
              "      <td>NE</td>\n",
              "    </tr>\n",
              "    <tr>\n",
              "      <th>1</th>\n",
              "      <td>1</td>\n",
              "      <td>79248.64245</td>\n",
              "      <td>6.002900</td>\n",
              "      <td>6.730821</td>\n",
              "      <td>3.090000</td>\n",
              "      <td>40173.07217</td>\n",
              "      <td>Rs20078.545531292668</td>\n",
              "      <td>188 Johnson Views Suite 079\\nLake Kathleen, CA...</td>\n",
              "      <td>CA</td>\n",
              "    </tr>\n",
              "    <tr>\n",
              "      <th>2</th>\n",
              "      <td>2</td>\n",
              "      <td>61287.06718</td>\n",
              "      <td>5.865890</td>\n",
              "      <td>8.512727</td>\n",
              "      <td>5.130000</td>\n",
              "      <td>36882.15940</td>\n",
              "      <td>$1,058,987.99</td>\n",
              "      <td>9127 Elizabeth Stravenue\\nDanieltown, WI 06482...</td>\n",
              "      <td>WI</td>\n",
              "    </tr>\n",
              "    <tr>\n",
              "      <th>3</th>\n",
              "      <td>3</td>\n",
              "      <td>63345.24005</td>\n",
              "      <td>7.188236</td>\n",
              "      <td>6.994414</td>\n",
              "      <td>3.998083</td>\n",
              "      <td>34310.24283</td>\n",
              "      <td>Rs16808.224088392624</td>\n",
              "      <td>USS Barnett\\nFPO AP 44820</td>\n",
              "      <td>AP</td>\n",
              "    </tr>\n",
              "    <tr>\n",
              "      <th>4</th>\n",
              "      <td>4</td>\n",
              "      <td>59982.19723</td>\n",
              "      <td>5.040555</td>\n",
              "      <td>7.839388</td>\n",
              "      <td>4.230000</td>\n",
              "      <td>26354.10947</td>\n",
              "      <td>$630,943.49</td>\n",
              "      <td>USNS Raymond\\nFPO AE 09386</td>\n",
              "      <td>AE</td>\n",
              "    </tr>\n",
              "  </tbody>\n",
              "</table>\n",
              "</div>\n",
              "      <button class=\"colab-df-convert\" onclick=\"convertToInteractive('df-23ffb839-27f7-44e0-9301-4de301295f16')\"\n",
              "              title=\"Convert this dataframe to an interactive table.\"\n",
              "              style=\"display:none;\">\n",
              "        \n",
              "  <svg xmlns=\"http://www.w3.org/2000/svg\" height=\"24px\"viewBox=\"0 0 24 24\"\n",
              "       width=\"24px\">\n",
              "    <path d=\"M0 0h24v24H0V0z\" fill=\"none\"/>\n",
              "    <path d=\"M18.56 5.44l.94 2.06.94-2.06 2.06-.94-2.06-.94-.94-2.06-.94 2.06-2.06.94zm-11 1L8.5 8.5l.94-2.06 2.06-.94-2.06-.94L8.5 2.5l-.94 2.06-2.06.94zm10 10l.94 2.06.94-2.06 2.06-.94-2.06-.94-.94-2.06-.94 2.06-2.06.94z\"/><path d=\"M17.41 7.96l-1.37-1.37c-.4-.4-.92-.59-1.43-.59-.52 0-1.04.2-1.43.59L10.3 9.45l-7.72 7.72c-.78.78-.78 2.05 0 2.83L4 21.41c.39.39.9.59 1.41.59.51 0 1.02-.2 1.41-.59l7.78-7.78 2.81-2.81c.8-.78.8-2.07 0-2.86zM5.41 20L4 18.59l7.72-7.72 1.47 1.35L5.41 20z\"/>\n",
              "  </svg>\n",
              "      </button>\n",
              "      \n",
              "  <style>\n",
              "    .colab-df-container {\n",
              "      display:flex;\n",
              "      flex-wrap:wrap;\n",
              "      gap: 12px;\n",
              "    }\n",
              "\n",
              "    .colab-df-convert {\n",
              "      background-color: #E8F0FE;\n",
              "      border: none;\n",
              "      border-radius: 50%;\n",
              "      cursor: pointer;\n",
              "      display: none;\n",
              "      fill: #1967D2;\n",
              "      height: 32px;\n",
              "      padding: 0 0 0 0;\n",
              "      width: 32px;\n",
              "    }\n",
              "\n",
              "    .colab-df-convert:hover {\n",
              "      background-color: #E2EBFA;\n",
              "      box-shadow: 0px 1px 2px rgba(60, 64, 67, 0.3), 0px 1px 3px 1px rgba(60, 64, 67, 0.15);\n",
              "      fill: #174EA6;\n",
              "    }\n",
              "\n",
              "    [theme=dark] .colab-df-convert {\n",
              "      background-color: #3B4455;\n",
              "      fill: #D2E3FC;\n",
              "    }\n",
              "\n",
              "    [theme=dark] .colab-df-convert:hover {\n",
              "      background-color: #434B5C;\n",
              "      box-shadow: 0px 1px 3px 1px rgba(0, 0, 0, 0.15);\n",
              "      filter: drop-shadow(0px 1px 2px rgba(0, 0, 0, 0.3));\n",
              "      fill: #FFFFFF;\n",
              "    }\n",
              "  </style>\n",
              "\n",
              "      <script>\n",
              "        const buttonEl =\n",
              "          document.querySelector('#df-23ffb839-27f7-44e0-9301-4de301295f16 button.colab-df-convert');\n",
              "        buttonEl.style.display =\n",
              "          google.colab.kernel.accessAllowed ? 'block' : 'none';\n",
              "\n",
              "        async function convertToInteractive(key) {\n",
              "          const element = document.querySelector('#df-23ffb839-27f7-44e0-9301-4de301295f16');\n",
              "          const dataTable =\n",
              "            await google.colab.kernel.invokeFunction('convertToInteractive',\n",
              "                                                     [key], {});\n",
              "          if (!dataTable) return;\n",
              "\n",
              "          const docLinkHtml = 'Like what you see? Visit the ' +\n",
              "            '<a target=\"_blank\" href=https://colab.research.google.com/notebooks/data_table.ipynb>data table notebook</a>'\n",
              "            + ' to learn more about interactive tables.';\n",
              "          element.innerHTML = '';\n",
              "          dataTable['output_type'] = 'display_data';\n",
              "          await google.colab.output.renderOutput(dataTable, element);\n",
              "          const docLink = document.createElement('div');\n",
              "          docLink.innerHTML = docLinkHtml;\n",
              "          element.appendChild(docLink);\n",
              "        }\n",
              "      </script>\n",
              "    </div>\n",
              "  </div>\n",
              "  "
            ]
          },
          "metadata": {},
          "execution_count": 25
        }
      ]
    },
    {
      "cell_type": "markdown",
      "source": [
        "#drop the address and ids columns"
      ],
      "metadata": {
        "id": "Ul6cVyOSXJgD"
      }
    },
    {
      "cell_type": "code",
      "source": [
        "df.drop('ids',axis=1,inplace=True)"
      ],
      "metadata": {
        "id": "AWK3kNeSVWln"
      },
      "execution_count": null,
      "outputs": []
    },
    {
      "cell_type": "code",
      "source": [
        "df.drop('Address',axis=1,inplace=True)"
      ],
      "metadata": {
        "id": "PnKT5rDQV1IH"
      },
      "execution_count": null,
      "outputs": []
    },
    {
      "cell_type": "code",
      "source": [
        "df.head()"
      ],
      "metadata": {
        "colab": {
          "base_uri": "https://localhost:8080/",
          "height": 267
        },
        "id": "OV1_e5ONV7h6",
        "outputId": "767a12f3-1942-47b7-bc34-9c72a2d15f13"
      },
      "execution_count": null,
      "outputs": [
        {
          "output_type": "execute_result",
          "data": {
            "text/plain": [
              "   Avg. Area Income  Avg. Area House Age  Avg. Area Number of Rooms  \\\n",
              "0       79545.45857             5.976820                   6.994414   \n",
              "1       79248.64245             6.002900                   6.730821   \n",
              "2       61287.06718             5.865890                   8.512727   \n",
              "3       63345.24005             7.188236                   6.994414   \n",
              "4       59982.19723             5.040555                   7.839388   \n",
              "\n",
              "   Avg. Area Number of Bedrooms  Area Population                 Price state  \n",
              "0                      3.998083      23086.80050        $1,059,033.56     NE  \n",
              "1                      3.090000      40173.07217  Rs20078.545531292668    CA  \n",
              "2                      5.130000      36882.15940        $1,058,987.99     WI  \n",
              "3                      3.998083      34310.24283  Rs16808.224088392624    AP  \n",
              "4                      4.230000      26354.10947          $630,943.49     AE  "
            ],
            "text/html": [
              "\n",
              "  <div id=\"df-95750f7c-c6c3-47bb-8ffa-dc8e34389b32\">\n",
              "    <div class=\"colab-df-container\">\n",
              "      <div>\n",
              "<style scoped>\n",
              "    .dataframe tbody tr th:only-of-type {\n",
              "        vertical-align: middle;\n",
              "    }\n",
              "\n",
              "    .dataframe tbody tr th {\n",
              "        vertical-align: top;\n",
              "    }\n",
              "\n",
              "    .dataframe thead th {\n",
              "        text-align: right;\n",
              "    }\n",
              "</style>\n",
              "<table border=\"1\" class=\"dataframe\">\n",
              "  <thead>\n",
              "    <tr style=\"text-align: right;\">\n",
              "      <th></th>\n",
              "      <th>Avg. Area Income</th>\n",
              "      <th>Avg. Area House Age</th>\n",
              "      <th>Avg. Area Number of Rooms</th>\n",
              "      <th>Avg. Area Number of Bedrooms</th>\n",
              "      <th>Area Population</th>\n",
              "      <th>Price</th>\n",
              "      <th>state</th>\n",
              "    </tr>\n",
              "  </thead>\n",
              "  <tbody>\n",
              "    <tr>\n",
              "      <th>0</th>\n",
              "      <td>79545.45857</td>\n",
              "      <td>5.976820</td>\n",
              "      <td>6.994414</td>\n",
              "      <td>3.998083</td>\n",
              "      <td>23086.80050</td>\n",
              "      <td>$1,059,033.56</td>\n",
              "      <td>NE</td>\n",
              "    </tr>\n",
              "    <tr>\n",
              "      <th>1</th>\n",
              "      <td>79248.64245</td>\n",
              "      <td>6.002900</td>\n",
              "      <td>6.730821</td>\n",
              "      <td>3.090000</td>\n",
              "      <td>40173.07217</td>\n",
              "      <td>Rs20078.545531292668</td>\n",
              "      <td>CA</td>\n",
              "    </tr>\n",
              "    <tr>\n",
              "      <th>2</th>\n",
              "      <td>61287.06718</td>\n",
              "      <td>5.865890</td>\n",
              "      <td>8.512727</td>\n",
              "      <td>5.130000</td>\n",
              "      <td>36882.15940</td>\n",
              "      <td>$1,058,987.99</td>\n",
              "      <td>WI</td>\n",
              "    </tr>\n",
              "    <tr>\n",
              "      <th>3</th>\n",
              "      <td>63345.24005</td>\n",
              "      <td>7.188236</td>\n",
              "      <td>6.994414</td>\n",
              "      <td>3.998083</td>\n",
              "      <td>34310.24283</td>\n",
              "      <td>Rs16808.224088392624</td>\n",
              "      <td>AP</td>\n",
              "    </tr>\n",
              "    <tr>\n",
              "      <th>4</th>\n",
              "      <td>59982.19723</td>\n",
              "      <td>5.040555</td>\n",
              "      <td>7.839388</td>\n",
              "      <td>4.230000</td>\n",
              "      <td>26354.10947</td>\n",
              "      <td>$630,943.49</td>\n",
              "      <td>AE</td>\n",
              "    </tr>\n",
              "  </tbody>\n",
              "</table>\n",
              "</div>\n",
              "      <button class=\"colab-df-convert\" onclick=\"convertToInteractive('df-95750f7c-c6c3-47bb-8ffa-dc8e34389b32')\"\n",
              "              title=\"Convert this dataframe to an interactive table.\"\n",
              "              style=\"display:none;\">\n",
              "        \n",
              "  <svg xmlns=\"http://www.w3.org/2000/svg\" height=\"24px\"viewBox=\"0 0 24 24\"\n",
              "       width=\"24px\">\n",
              "    <path d=\"M0 0h24v24H0V0z\" fill=\"none\"/>\n",
              "    <path d=\"M18.56 5.44l.94 2.06.94-2.06 2.06-.94-2.06-.94-.94-2.06-.94 2.06-2.06.94zm-11 1L8.5 8.5l.94-2.06 2.06-.94-2.06-.94L8.5 2.5l-.94 2.06-2.06.94zm10 10l.94 2.06.94-2.06 2.06-.94-2.06-.94-.94-2.06-.94 2.06-2.06.94z\"/><path d=\"M17.41 7.96l-1.37-1.37c-.4-.4-.92-.59-1.43-.59-.52 0-1.04.2-1.43.59L10.3 9.45l-7.72 7.72c-.78.78-.78 2.05 0 2.83L4 21.41c.39.39.9.59 1.41.59.51 0 1.02-.2 1.41-.59l7.78-7.78 2.81-2.81c.8-.78.8-2.07 0-2.86zM5.41 20L4 18.59l7.72-7.72 1.47 1.35L5.41 20z\"/>\n",
              "  </svg>\n",
              "      </button>\n",
              "      \n",
              "  <style>\n",
              "    .colab-df-container {\n",
              "      display:flex;\n",
              "      flex-wrap:wrap;\n",
              "      gap: 12px;\n",
              "    }\n",
              "\n",
              "    .colab-df-convert {\n",
              "      background-color: #E8F0FE;\n",
              "      border: none;\n",
              "      border-radius: 50%;\n",
              "      cursor: pointer;\n",
              "      display: none;\n",
              "      fill: #1967D2;\n",
              "      height: 32px;\n",
              "      padding: 0 0 0 0;\n",
              "      width: 32px;\n",
              "    }\n",
              "\n",
              "    .colab-df-convert:hover {\n",
              "      background-color: #E2EBFA;\n",
              "      box-shadow: 0px 1px 2px rgba(60, 64, 67, 0.3), 0px 1px 3px 1px rgba(60, 64, 67, 0.15);\n",
              "      fill: #174EA6;\n",
              "    }\n",
              "\n",
              "    [theme=dark] .colab-df-convert {\n",
              "      background-color: #3B4455;\n",
              "      fill: #D2E3FC;\n",
              "    }\n",
              "\n",
              "    [theme=dark] .colab-df-convert:hover {\n",
              "      background-color: #434B5C;\n",
              "      box-shadow: 0px 1px 3px 1px rgba(0, 0, 0, 0.15);\n",
              "      filter: drop-shadow(0px 1px 2px rgba(0, 0, 0, 0.3));\n",
              "      fill: #FFFFFF;\n",
              "    }\n",
              "  </style>\n",
              "\n",
              "      <script>\n",
              "        const buttonEl =\n",
              "          document.querySelector('#df-95750f7c-c6c3-47bb-8ffa-dc8e34389b32 button.colab-df-convert');\n",
              "        buttonEl.style.display =\n",
              "          google.colab.kernel.accessAllowed ? 'block' : 'none';\n",
              "\n",
              "        async function convertToInteractive(key) {\n",
              "          const element = document.querySelector('#df-95750f7c-c6c3-47bb-8ffa-dc8e34389b32');\n",
              "          const dataTable =\n",
              "            await google.colab.kernel.invokeFunction('convertToInteractive',\n",
              "                                                     [key], {});\n",
              "          if (!dataTable) return;\n",
              "\n",
              "          const docLinkHtml = 'Like what you see? Visit the ' +\n",
              "            '<a target=\"_blank\" href=https://colab.research.google.com/notebooks/data_table.ipynb>data table notebook</a>'\n",
              "            + ' to learn more about interactive tables.';\n",
              "          element.innerHTML = '';\n",
              "          dataTable['output_type'] = 'display_data';\n",
              "          await google.colab.output.renderOutput(dataTable, element);\n",
              "          const docLink = document.createElement('div');\n",
              "          docLink.innerHTML = docLinkHtml;\n",
              "          element.appendChild(docLink);\n",
              "        }\n",
              "      </script>\n",
              "    </div>\n",
              "  </div>\n",
              "  "
            ]
          },
          "metadata": {},
          "execution_count": 28
        }
      ]
    },
    {
      "cell_type": "markdown",
      "source": [
        "#convert all price RS to dollar"
      ],
      "metadata": {
        "id": "H_RraV1TXDrz"
      }
    },
    {
      "cell_type": "code",
      "source": [
        "df['Price'][0][0]"
      ],
      "metadata": {
        "colab": {
          "base_uri": "https://localhost:8080/",
          "height": 35
        },
        "id": "Nrs4HcP4WIX9",
        "outputId": "0abdcc4e-b16d-4bb7-daae-475d361d13ee"
      },
      "execution_count": null,
      "outputs": [
        {
          "output_type": "execute_result",
          "data": {
            "text/plain": [
              "'$'"
            ],
            "application/vnd.google.colaboratory.intrinsic+json": {
              "type": "string"
            }
          },
          "metadata": {},
          "execution_count": 29
        }
      ]
    },
    {
      "cell_type": "markdown",
      "source": [
        "#creating function  to change rs to dollar"
      ],
      "metadata": {
        "id": "AYzLy5zVW_3U"
      }
    },
    {
      "cell_type": "code",
      "source": [
        "def convert(x):\n",
        "  if(x[0]=='R'):\n",
        "    x=x.split('R')\n",
        "    x=x[-1]\n",
        "    x=float(x)*75\n",
        "    return x\n",
        "  else:\n",
        "     x=x.split('$')\n",
        "     x=x[-1]\n",
        "     return x"
      ],
      "metadata": {
        "id": "q0NuOA49Wpgh"
      },
      "execution_count": null,
      "outputs": []
    },
    {
      "cell_type": "code",
      "source": [
        "df['Price']=df['Price'].str.replace('s','')\n",
        "df['Price']=df['Price'].str.replace(',','')"
      ],
      "metadata": {
        "id": "vLjyl1WAXiTU"
      },
      "execution_count": null,
      "outputs": []
    },
    {
      "cell_type": "code",
      "source": [
        "df['Price_dollar']=df['Price'].apply(convert)"
      ],
      "metadata": {
        "id": "NTdn4D8VD-oM"
      },
      "execution_count": null,
      "outputs": []
    },
    {
      "cell_type": "code",
      "source": [
        "df['Price_dollar']"
      ],
      "metadata": {
        "colab": {
          "base_uri": "https://localhost:8080/"
        },
        "id": "aP1BZNNKD_My",
        "outputId": "467f632e-ea0b-441b-e693-3e696f3eb9ca"
      },
      "execution_count": null,
      "outputs": [
        {
          "output_type": "execute_result",
          "data": {
            "text/plain": [
              "0          1059033.56 \n",
              "1       1505890.914847\n",
              "2          1058987.99 \n",
              "3       1260616.806629\n",
              "4           630943.49 \n",
              "             ...      \n",
              "4995    1060193.785885\n",
              "4996       1482617.73 \n",
              "4997    1030729.583152\n",
              "4998       1198656.87 \n",
              "4999    1298950.480267\n",
              "Name: Price_dollar, Length: 5000, dtype: object"
            ]
          },
          "metadata": {},
          "execution_count": 33
        }
      ]
    },
    {
      "cell_type": "code",
      "source": [
        "df.drop('Price',axis=1,inplace=True)"
      ],
      "metadata": {
        "id": "JycZOT1PEBKU"
      },
      "execution_count": null,
      "outputs": []
    },
    {
      "cell_type": "code",
      "source": [
        "#Price column in object we have to convert in float"
      ],
      "metadata": {
        "id": "oAMm47PdEDWf"
      },
      "execution_count": null,
      "outputs": []
    },
    {
      "cell_type": "code",
      "source": [
        "df['Price_dollar']=df['Price_dollar'].astype('float64')"
      ],
      "metadata": {
        "id": "A-kkswkeEGNo"
      },
      "execution_count": null,
      "outputs": []
    },
    {
      "cell_type": "code",
      "source": [
        "df['Price_dollar'] #price now converted into float"
      ],
      "metadata": {
        "colab": {
          "base_uri": "https://localhost:8080/"
        },
        "id": "G8TWLlKEEIeJ",
        "outputId": "c26ad561-de6b-447e-b970-97fcdaa347fe"
      },
      "execution_count": null,
      "outputs": [
        {
          "output_type": "execute_result",
          "data": {
            "text/plain": [
              "0       1.059034e+06\n",
              "1       1.505891e+06\n",
              "2       1.058988e+06\n",
              "3       1.260617e+06\n",
              "4       6.309435e+05\n",
              "            ...     \n",
              "4995    1.060194e+06\n",
              "4996    1.482618e+06\n",
              "4997    1.030730e+06\n",
              "4998    1.198657e+06\n",
              "4999    1.298950e+06\n",
              "Name: Price_dollar, Length: 5000, dtype: float64"
            ]
          },
          "metadata": {},
          "execution_count": 37
        }
      ]
    },
    {
      "cell_type": "markdown",
      "source": [
        "#EDA And Preprocessing"
      ],
      "metadata": {
        "id": "WHzUkmrsW8Fq"
      }
    },
    {
      "cell_type": "code",
      "source": [
        "df.head()"
      ],
      "metadata": {
        "colab": {
          "base_uri": "https://localhost:8080/",
          "height": 267
        },
        "id": "_fVBPzGnEN1O",
        "outputId": "a0b7545c-2410-4165-da40-ee6d4d09e527"
      },
      "execution_count": null,
      "outputs": [
        {
          "output_type": "execute_result",
          "data": {
            "text/plain": [
              "   Avg. Area Income  Avg. Area House Age  Avg. Area Number of Rooms  \\\n",
              "0       79545.45857             5.976820                   6.994414   \n",
              "1       79248.64245             6.002900                   6.730821   \n",
              "2       61287.06718             5.865890                   8.512727   \n",
              "3       63345.24005             7.188236                   6.994414   \n",
              "4       59982.19723             5.040555                   7.839388   \n",
              "\n",
              "   Avg. Area Number of Bedrooms  Area Population state  Price_dollar  \n",
              "0                      3.998083      23086.80050    NE  1.059034e+06  \n",
              "1                      3.090000      40173.07217    CA  1.505891e+06  \n",
              "2                      5.130000      36882.15940    WI  1.058988e+06  \n",
              "3                      3.998083      34310.24283    AP  1.260617e+06  \n",
              "4                      4.230000      26354.10947    AE  6.309435e+05  "
            ],
            "text/html": [
              "\n",
              "  <div id=\"df-c3769e26-e0ea-4397-bc74-0407bada3db4\">\n",
              "    <div class=\"colab-df-container\">\n",
              "      <div>\n",
              "<style scoped>\n",
              "    .dataframe tbody tr th:only-of-type {\n",
              "        vertical-align: middle;\n",
              "    }\n",
              "\n",
              "    .dataframe tbody tr th {\n",
              "        vertical-align: top;\n",
              "    }\n",
              "\n",
              "    .dataframe thead th {\n",
              "        text-align: right;\n",
              "    }\n",
              "</style>\n",
              "<table border=\"1\" class=\"dataframe\">\n",
              "  <thead>\n",
              "    <tr style=\"text-align: right;\">\n",
              "      <th></th>\n",
              "      <th>Avg. Area Income</th>\n",
              "      <th>Avg. Area House Age</th>\n",
              "      <th>Avg. Area Number of Rooms</th>\n",
              "      <th>Avg. Area Number of Bedrooms</th>\n",
              "      <th>Area Population</th>\n",
              "      <th>state</th>\n",
              "      <th>Price_dollar</th>\n",
              "    </tr>\n",
              "  </thead>\n",
              "  <tbody>\n",
              "    <tr>\n",
              "      <th>0</th>\n",
              "      <td>79545.45857</td>\n",
              "      <td>5.976820</td>\n",
              "      <td>6.994414</td>\n",
              "      <td>3.998083</td>\n",
              "      <td>23086.80050</td>\n",
              "      <td>NE</td>\n",
              "      <td>1.059034e+06</td>\n",
              "    </tr>\n",
              "    <tr>\n",
              "      <th>1</th>\n",
              "      <td>79248.64245</td>\n",
              "      <td>6.002900</td>\n",
              "      <td>6.730821</td>\n",
              "      <td>3.090000</td>\n",
              "      <td>40173.07217</td>\n",
              "      <td>CA</td>\n",
              "      <td>1.505891e+06</td>\n",
              "    </tr>\n",
              "    <tr>\n",
              "      <th>2</th>\n",
              "      <td>61287.06718</td>\n",
              "      <td>5.865890</td>\n",
              "      <td>8.512727</td>\n",
              "      <td>5.130000</td>\n",
              "      <td>36882.15940</td>\n",
              "      <td>WI</td>\n",
              "      <td>1.058988e+06</td>\n",
              "    </tr>\n",
              "    <tr>\n",
              "      <th>3</th>\n",
              "      <td>63345.24005</td>\n",
              "      <td>7.188236</td>\n",
              "      <td>6.994414</td>\n",
              "      <td>3.998083</td>\n",
              "      <td>34310.24283</td>\n",
              "      <td>AP</td>\n",
              "      <td>1.260617e+06</td>\n",
              "    </tr>\n",
              "    <tr>\n",
              "      <th>4</th>\n",
              "      <td>59982.19723</td>\n",
              "      <td>5.040555</td>\n",
              "      <td>7.839388</td>\n",
              "      <td>4.230000</td>\n",
              "      <td>26354.10947</td>\n",
              "      <td>AE</td>\n",
              "      <td>6.309435e+05</td>\n",
              "    </tr>\n",
              "  </tbody>\n",
              "</table>\n",
              "</div>\n",
              "      <button class=\"colab-df-convert\" onclick=\"convertToInteractive('df-c3769e26-e0ea-4397-bc74-0407bada3db4')\"\n",
              "              title=\"Convert this dataframe to an interactive table.\"\n",
              "              style=\"display:none;\">\n",
              "        \n",
              "  <svg xmlns=\"http://www.w3.org/2000/svg\" height=\"24px\"viewBox=\"0 0 24 24\"\n",
              "       width=\"24px\">\n",
              "    <path d=\"M0 0h24v24H0V0z\" fill=\"none\"/>\n",
              "    <path d=\"M18.56 5.44l.94 2.06.94-2.06 2.06-.94-2.06-.94-.94-2.06-.94 2.06-2.06.94zm-11 1L8.5 8.5l.94-2.06 2.06-.94-2.06-.94L8.5 2.5l-.94 2.06-2.06.94zm10 10l.94 2.06.94-2.06 2.06-.94-2.06-.94-.94-2.06-.94 2.06-2.06.94z\"/><path d=\"M17.41 7.96l-1.37-1.37c-.4-.4-.92-.59-1.43-.59-.52 0-1.04.2-1.43.59L10.3 9.45l-7.72 7.72c-.78.78-.78 2.05 0 2.83L4 21.41c.39.39.9.59 1.41.59.51 0 1.02-.2 1.41-.59l7.78-7.78 2.81-2.81c.8-.78.8-2.07 0-2.86zM5.41 20L4 18.59l7.72-7.72 1.47 1.35L5.41 20z\"/>\n",
              "  </svg>\n",
              "      </button>\n",
              "      \n",
              "  <style>\n",
              "    .colab-df-container {\n",
              "      display:flex;\n",
              "      flex-wrap:wrap;\n",
              "      gap: 12px;\n",
              "    }\n",
              "\n",
              "    .colab-df-convert {\n",
              "      background-color: #E8F0FE;\n",
              "      border: none;\n",
              "      border-radius: 50%;\n",
              "      cursor: pointer;\n",
              "      display: none;\n",
              "      fill: #1967D2;\n",
              "      height: 32px;\n",
              "      padding: 0 0 0 0;\n",
              "      width: 32px;\n",
              "    }\n",
              "\n",
              "    .colab-df-convert:hover {\n",
              "      background-color: #E2EBFA;\n",
              "      box-shadow: 0px 1px 2px rgba(60, 64, 67, 0.3), 0px 1px 3px 1px rgba(60, 64, 67, 0.15);\n",
              "      fill: #174EA6;\n",
              "    }\n",
              "\n",
              "    [theme=dark] .colab-df-convert {\n",
              "      background-color: #3B4455;\n",
              "      fill: #D2E3FC;\n",
              "    }\n",
              "\n",
              "    [theme=dark] .colab-df-convert:hover {\n",
              "      background-color: #434B5C;\n",
              "      box-shadow: 0px 1px 3px 1px rgba(0, 0, 0, 0.15);\n",
              "      filter: drop-shadow(0px 1px 2px rgba(0, 0, 0, 0.3));\n",
              "      fill: #FFFFFF;\n",
              "    }\n",
              "  </style>\n",
              "\n",
              "      <script>\n",
              "        const buttonEl =\n",
              "          document.querySelector('#df-c3769e26-e0ea-4397-bc74-0407bada3db4 button.colab-df-convert');\n",
              "        buttonEl.style.display =\n",
              "          google.colab.kernel.accessAllowed ? 'block' : 'none';\n",
              "\n",
              "        async function convertToInteractive(key) {\n",
              "          const element = document.querySelector('#df-c3769e26-e0ea-4397-bc74-0407bada3db4');\n",
              "          const dataTable =\n",
              "            await google.colab.kernel.invokeFunction('convertToInteractive',\n",
              "                                                     [key], {});\n",
              "          if (!dataTable) return;\n",
              "\n",
              "          const docLinkHtml = 'Like what you see? Visit the ' +\n",
              "            '<a target=\"_blank\" href=https://colab.research.google.com/notebooks/data_table.ipynb>data table notebook</a>'\n",
              "            + ' to learn more about interactive tables.';\n",
              "          element.innerHTML = '';\n",
              "          dataTable['output_type'] = 'display_data';\n",
              "          await google.colab.output.renderOutput(dataTable, element);\n",
              "          const docLink = document.createElement('div');\n",
              "          docLink.innerHTML = docLinkHtml;\n",
              "          element.appendChild(docLink);\n",
              "        }\n",
              "      </script>\n",
              "    </div>\n",
              "  </div>\n",
              "  "
            ]
          },
          "metadata": {},
          "execution_count": 38
        }
      ]
    },
    {
      "cell_type": "code",
      "source": [
        "df.describe()"
      ],
      "metadata": {
        "colab": {
          "base_uri": "https://localhost:8080/",
          "height": 362
        },
        "id": "Tz7QOaPTEPry",
        "outputId": "15044e93-d34f-496c-c9b2-396b4a6a6c5b"
      },
      "execution_count": null,
      "outputs": [
        {
          "output_type": "execute_result",
          "data": {
            "text/plain": [
              "       Avg. Area Income  Avg. Area House Age  Avg. Area Number of Rooms  \\\n",
              "count       5000.000000          5000.000000                5000.000000   \n",
              "mean       68583.108984             5.976820                   6.994414   \n",
              "std        10657.991214             0.990299                   0.829710   \n",
              "min        17796.631190             2.644304                   3.236194   \n",
              "25%        61480.562390             5.323276                   6.687358   \n",
              "50%        68804.286405             5.973346                   6.994414   \n",
              "75%        75783.338665             6.649509                   7.341897   \n",
              "max       107701.748400             9.519088                  10.219902   \n",
              "\n",
              "       Avg. Area Number of Bedrooms  Area Population  Price_dollar  \n",
              "count                   5000.000000      5000.000000  5.000000e+03  \n",
              "mean                       3.998083     36163.516039  1.232073e+06  \n",
              "std                        1.011621      9925.650114  3.531176e+05  \n",
              "min                        2.000000       172.610686  1.593866e+04  \n",
              "25%                        3.360000     29403.928700  9.975771e+05  \n",
              "50%                        3.998083     36199.406690  1.232669e+06  \n",
              "75%                        4.280000     42861.290770  1.471210e+06  \n",
              "max                        6.500000     69621.713380  2.469066e+06  "
            ],
            "text/html": [
              "\n",
              "  <div id=\"df-81db4a7a-eff5-4977-9332-7ca302fcb534\">\n",
              "    <div class=\"colab-df-container\">\n",
              "      <div>\n",
              "<style scoped>\n",
              "    .dataframe tbody tr th:only-of-type {\n",
              "        vertical-align: middle;\n",
              "    }\n",
              "\n",
              "    .dataframe tbody tr th {\n",
              "        vertical-align: top;\n",
              "    }\n",
              "\n",
              "    .dataframe thead th {\n",
              "        text-align: right;\n",
              "    }\n",
              "</style>\n",
              "<table border=\"1\" class=\"dataframe\">\n",
              "  <thead>\n",
              "    <tr style=\"text-align: right;\">\n",
              "      <th></th>\n",
              "      <th>Avg. Area Income</th>\n",
              "      <th>Avg. Area House Age</th>\n",
              "      <th>Avg. Area Number of Rooms</th>\n",
              "      <th>Avg. Area Number of Bedrooms</th>\n",
              "      <th>Area Population</th>\n",
              "      <th>Price_dollar</th>\n",
              "    </tr>\n",
              "  </thead>\n",
              "  <tbody>\n",
              "    <tr>\n",
              "      <th>count</th>\n",
              "      <td>5000.000000</td>\n",
              "      <td>5000.000000</td>\n",
              "      <td>5000.000000</td>\n",
              "      <td>5000.000000</td>\n",
              "      <td>5000.000000</td>\n",
              "      <td>5.000000e+03</td>\n",
              "    </tr>\n",
              "    <tr>\n",
              "      <th>mean</th>\n",
              "      <td>68583.108984</td>\n",
              "      <td>5.976820</td>\n",
              "      <td>6.994414</td>\n",
              "      <td>3.998083</td>\n",
              "      <td>36163.516039</td>\n",
              "      <td>1.232073e+06</td>\n",
              "    </tr>\n",
              "    <tr>\n",
              "      <th>std</th>\n",
              "      <td>10657.991214</td>\n",
              "      <td>0.990299</td>\n",
              "      <td>0.829710</td>\n",
              "      <td>1.011621</td>\n",
              "      <td>9925.650114</td>\n",
              "      <td>3.531176e+05</td>\n",
              "    </tr>\n",
              "    <tr>\n",
              "      <th>min</th>\n",
              "      <td>17796.631190</td>\n",
              "      <td>2.644304</td>\n",
              "      <td>3.236194</td>\n",
              "      <td>2.000000</td>\n",
              "      <td>172.610686</td>\n",
              "      <td>1.593866e+04</td>\n",
              "    </tr>\n",
              "    <tr>\n",
              "      <th>25%</th>\n",
              "      <td>61480.562390</td>\n",
              "      <td>5.323276</td>\n",
              "      <td>6.687358</td>\n",
              "      <td>3.360000</td>\n",
              "      <td>29403.928700</td>\n",
              "      <td>9.975771e+05</td>\n",
              "    </tr>\n",
              "    <tr>\n",
              "      <th>50%</th>\n",
              "      <td>68804.286405</td>\n",
              "      <td>5.973346</td>\n",
              "      <td>6.994414</td>\n",
              "      <td>3.998083</td>\n",
              "      <td>36199.406690</td>\n",
              "      <td>1.232669e+06</td>\n",
              "    </tr>\n",
              "    <tr>\n",
              "      <th>75%</th>\n",
              "      <td>75783.338665</td>\n",
              "      <td>6.649509</td>\n",
              "      <td>7.341897</td>\n",
              "      <td>4.280000</td>\n",
              "      <td>42861.290770</td>\n",
              "      <td>1.471210e+06</td>\n",
              "    </tr>\n",
              "    <tr>\n",
              "      <th>max</th>\n",
              "      <td>107701.748400</td>\n",
              "      <td>9.519088</td>\n",
              "      <td>10.219902</td>\n",
              "      <td>6.500000</td>\n",
              "      <td>69621.713380</td>\n",
              "      <td>2.469066e+06</td>\n",
              "    </tr>\n",
              "  </tbody>\n",
              "</table>\n",
              "</div>\n",
              "      <button class=\"colab-df-convert\" onclick=\"convertToInteractive('df-81db4a7a-eff5-4977-9332-7ca302fcb534')\"\n",
              "              title=\"Convert this dataframe to an interactive table.\"\n",
              "              style=\"display:none;\">\n",
              "        \n",
              "  <svg xmlns=\"http://www.w3.org/2000/svg\" height=\"24px\"viewBox=\"0 0 24 24\"\n",
              "       width=\"24px\">\n",
              "    <path d=\"M0 0h24v24H0V0z\" fill=\"none\"/>\n",
              "    <path d=\"M18.56 5.44l.94 2.06.94-2.06 2.06-.94-2.06-.94-.94-2.06-.94 2.06-2.06.94zm-11 1L8.5 8.5l.94-2.06 2.06-.94-2.06-.94L8.5 2.5l-.94 2.06-2.06.94zm10 10l.94 2.06.94-2.06 2.06-.94-2.06-.94-.94-2.06-.94 2.06-2.06.94z\"/><path d=\"M17.41 7.96l-1.37-1.37c-.4-.4-.92-.59-1.43-.59-.52 0-1.04.2-1.43.59L10.3 9.45l-7.72 7.72c-.78.78-.78 2.05 0 2.83L4 21.41c.39.39.9.59 1.41.59.51 0 1.02-.2 1.41-.59l7.78-7.78 2.81-2.81c.8-.78.8-2.07 0-2.86zM5.41 20L4 18.59l7.72-7.72 1.47 1.35L5.41 20z\"/>\n",
              "  </svg>\n",
              "      </button>\n",
              "      \n",
              "  <style>\n",
              "    .colab-df-container {\n",
              "      display:flex;\n",
              "      flex-wrap:wrap;\n",
              "      gap: 12px;\n",
              "    }\n",
              "\n",
              "    .colab-df-convert {\n",
              "      background-color: #E8F0FE;\n",
              "      border: none;\n",
              "      border-radius: 50%;\n",
              "      cursor: pointer;\n",
              "      display: none;\n",
              "      fill: #1967D2;\n",
              "      height: 32px;\n",
              "      padding: 0 0 0 0;\n",
              "      width: 32px;\n",
              "    }\n",
              "\n",
              "    .colab-df-convert:hover {\n",
              "      background-color: #E2EBFA;\n",
              "      box-shadow: 0px 1px 2px rgba(60, 64, 67, 0.3), 0px 1px 3px 1px rgba(60, 64, 67, 0.15);\n",
              "      fill: #174EA6;\n",
              "    }\n",
              "\n",
              "    [theme=dark] .colab-df-convert {\n",
              "      background-color: #3B4455;\n",
              "      fill: #D2E3FC;\n",
              "    }\n",
              "\n",
              "    [theme=dark] .colab-df-convert:hover {\n",
              "      background-color: #434B5C;\n",
              "      box-shadow: 0px 1px 3px 1px rgba(0, 0, 0, 0.15);\n",
              "      filter: drop-shadow(0px 1px 2px rgba(0, 0, 0, 0.3));\n",
              "      fill: #FFFFFF;\n",
              "    }\n",
              "  </style>\n",
              "\n",
              "      <script>\n",
              "        const buttonEl =\n",
              "          document.querySelector('#df-81db4a7a-eff5-4977-9332-7ca302fcb534 button.colab-df-convert');\n",
              "        buttonEl.style.display =\n",
              "          google.colab.kernel.accessAllowed ? 'block' : 'none';\n",
              "\n",
              "        async function convertToInteractive(key) {\n",
              "          const element = document.querySelector('#df-81db4a7a-eff5-4977-9332-7ca302fcb534');\n",
              "          const dataTable =\n",
              "            await google.colab.kernel.invokeFunction('convertToInteractive',\n",
              "                                                     [key], {});\n",
              "          if (!dataTable) return;\n",
              "\n",
              "          const docLinkHtml = 'Like what you see? Visit the ' +\n",
              "            '<a target=\"_blank\" href=https://colab.research.google.com/notebooks/data_table.ipynb>data table notebook</a>'\n",
              "            + ' to learn more about interactive tables.';\n",
              "          element.innerHTML = '';\n",
              "          dataTable['output_type'] = 'display_data';\n",
              "          await google.colab.output.renderOutput(dataTable, element);\n",
              "          const docLink = document.createElement('div');\n",
              "          docLink.innerHTML = docLinkHtml;\n",
              "          element.appendChild(docLink);\n",
              "        }\n",
              "      </script>\n",
              "    </div>\n",
              "  </div>\n",
              "  "
            ]
          },
          "metadata": {},
          "execution_count": 39
        }
      ]
    },
    {
      "cell_type": "markdown",
      "source": [
        "#use the boxplot on price to check outliers"
      ],
      "metadata": {
        "id": "36WF93giW5AJ"
      }
    },
    {
      "cell_type": "code",
      "source": [
        "plt.figure(figsize=(6,6))\n",
        "sns.boxplot(data=df, x='Price_dollar')\n",
        "plt.show()"
      ],
      "metadata": {
        "colab": {
          "base_uri": "https://localhost:8080/",
          "height": 389
        },
        "id": "uDSwkMbwEVmF",
        "outputId": "bfa0a0e8-bc52-41c0-8c04-5baa83b2123e"
      },
      "execution_count": null,
      "outputs": [
        {
          "output_type": "display_data",
          "data": {
            "text/plain": [
              "<Figure size 432x432 with 1 Axes>"
            ],
            "image/png": "[encoded data removed]"
          },
          "metadata": {
            "needs_background": "light"
          }
        }
      ]
    },
    {
      "cell_type": "code",
      "source": [
        "df[df['Price_dollar'] <-2]"
      ],
      "metadata": {
        "colab": {
          "base_uri": "https://localhost:8080/",
          "height": 111
        },
        "id": "1dtkHGTlEYTS",
        "outputId": "cf8741ce-a91e-4493-8075-9187ec201af0"
      },
      "execution_count": null,
      "outputs": [
        {
          "output_type": "execute_result",
          "data": {
            "text/plain": [
              "Empty DataFrame\n",
              "Columns: [Avg. Area Income, Avg. Area House Age, Avg. Area Number of Rooms, Avg. Area Number of Bedrooms, Area Population, state, Price_dollar]\n",
              "Index: []"
            ],
            "text/html": [
              "\n",
              "  <div id=\"df-b915bc1f-ac02-4670-9f20-2350d3036c04\">\n",
              "    <div class=\"colab-df-container\">\n",
              "      <div>\n",
              "<style scoped>\n",
              "    .dataframe tbody tr th:only-of-type {\n",
              "        vertical-align: middle;\n",
              "    }\n",
              "\n",
              "    .dataframe tbody tr th {\n",
              "        vertical-align: top;\n",
              "    }\n",
              "\n",
              "    .dataframe thead th {\n",
              "        text-align: right;\n",
              "    }\n",
              "</style>\n",
              "<table border=\"1\" class=\"dataframe\">\n",
              "  <thead>\n",
              "    <tr style=\"text-align: right;\">\n",
              "      <th></th>\n",
              "      <th>Avg. Area Income</th>\n",
              "      <th>Avg. Area House Age</th>\n",
              "      <th>Avg. Area Number of Rooms</th>\n",
              "      <th>Avg. Area Number of Bedrooms</th>\n",
              "      <th>Area Population</th>\n",
              "      <th>state</th>\n",
              "      <th>Price_dollar</th>\n",
              "    </tr>\n",
              "  </thead>\n",
              "  <tbody>\n",
              "  </tbody>\n",
              "</table>\n",
              "</div>\n",
              "      <button class=\"colab-df-convert\" onclick=\"convertToInteractive('df-b915bc1f-ac02-4670-9f20-2350d3036c04')\"\n",
              "              title=\"Convert this dataframe to an interactive table.\"\n",
              "              style=\"display:none;\">\n",
              "        \n",
              "  <svg xmlns=\"http://www.w3.org/2000/svg\" height=\"24px\"viewBox=\"0 0 24 24\"\n",
              "       width=\"24px\">\n",
              "    <path d=\"M0 0h24v24H0V0z\" fill=\"none\"/>\n",
              "    <path d=\"M18.56 5.44l.94 2.06.94-2.06 2.06-.94-2.06-.94-.94-2.06-.94 2.06-2.06.94zm-11 1L8.5 8.5l.94-2.06 2.06-.94-2.06-.94L8.5 2.5l-.94 2.06-2.06.94zm10 10l.94 2.06.94-2.06 2.06-.94-2.06-.94-.94-2.06-.94 2.06-2.06.94z\"/><path d=\"M17.41 7.96l-1.37-1.37c-.4-.4-.92-.59-1.43-.59-.52 0-1.04.2-1.43.59L10.3 9.45l-7.72 7.72c-.78.78-.78 2.05 0 2.83L4 21.41c.39.39.9.59 1.41.59.51 0 1.02-.2 1.41-.59l7.78-7.78 2.81-2.81c.8-.78.8-2.07 0-2.86zM5.41 20L4 18.59l7.72-7.72 1.47 1.35L5.41 20z\"/>\n",
              "  </svg>\n",
              "      </button>\n",
              "      \n",
              "  <style>\n",
              "    .colab-df-container {\n",
              "      display:flex;\n",
              "      flex-wrap:wrap;\n",
              "      gap: 12px;\n",
              "    }\n",
              "\n",
              "    .colab-df-convert {\n",
              "      background-color: #E8F0FE;\n",
              "      border: none;\n",
              "      border-radius: 50%;\n",
              "      cursor: pointer;\n",
              "      display: none;\n",
              "      fill: #1967D2;\n",
              "      height: 32px;\n",
              "      padding: 0 0 0 0;\n",
              "      width: 32px;\n",
              "    }\n",
              "\n",
              "    .colab-df-convert:hover {\n",
              "      background-color: #E2EBFA;\n",
              "      box-shadow: 0px 1px 2px rgba(60, 64, 67, 0.3), 0px 1px 3px 1px rgba(60, 64, 67, 0.15);\n",
              "      fill: #174EA6;\n",
              "    }\n",
              "\n",
              "    [theme=dark] .colab-df-convert {\n",
              "      background-color: #3B4455;\n",
              "      fill: #D2E3FC;\n",
              "    }\n",
              "\n",
              "    [theme=dark] .colab-df-convert:hover {\n",
              "      background-color: #434B5C;\n",
              "      box-shadow: 0px 1px 3px 1px rgba(0, 0, 0, 0.15);\n",
              "      filter: drop-shadow(0px 1px 2px rgba(0, 0, 0, 0.3));\n",
              "      fill: #FFFFFF;\n",
              "    }\n",
              "  </style>\n",
              "\n",
              "      <script>\n",
              "        const buttonEl =\n",
              "          document.querySelector('#df-b915bc1f-ac02-4670-9f20-2350d3036c04 button.colab-df-convert');\n",
              "        buttonEl.style.display =\n",
              "          google.colab.kernel.accessAllowed ? 'block' : 'none';\n",
              "\n",
              "        async function convertToInteractive(key) {\n",
              "          const element = document.querySelector('#df-b915bc1f-ac02-4670-9f20-2350d3036c04');\n",
              "          const dataTable =\n",
              "            await google.colab.kernel.invokeFunction('convertToInteractive',\n",
              "                                                     [key], {});\n",
              "          if (!dataTable) return;\n",
              "\n",
              "          const docLinkHtml = 'Like what you see? Visit the ' +\n",
              "            '<a target=\"_blank\" href=https://colab.research.google.com/notebooks/data_table.ipynb>data table notebook</a>'\n",
              "            + ' to learn more about interactive tables.';\n",
              "          element.innerHTML = '';\n",
              "          dataTable['output_type'] = 'display_data';\n",
              "          await google.colab.output.renderOutput(dataTable, element);\n",
              "          const docLink = document.createElement('div');\n",
              "          docLink.innerHTML = docLinkHtml;\n",
              "          element.appendChild(docLink);\n",
              "        }\n",
              "      </script>\n",
              "    </div>\n",
              "  </div>\n",
              "  "
            ]
          },
          "metadata": {},
          "execution_count": 41
        }
      ]
    },
    {
      "cell_type": "code",
      "source": [
        "df[df['Price_dollar'] >2]"
      ],
      "metadata": {
        "colab": {
          "base_uri": "https://localhost:8080/",
          "height": 485
        },
        "id": "f12wTvsiEcDW",
        "outputId": "ed8c63ba-b0f4-44a1-d8f9-cffce56c7bea"
      },
      "execution_count": null,
      "outputs": [
        {
          "output_type": "execute_result",
          "data": {
            "text/plain": [
              "      Avg. Area Income  Avg. Area House Age  Avg. Area Number of Rooms  \\\n",
              "0          79545.45857             5.976820                   6.994414   \n",
              "1          79248.64245             6.002900                   6.730821   \n",
              "2          61287.06718             5.865890                   8.512727   \n",
              "3          63345.24005             7.188236                   6.994414   \n",
              "4          59982.19723             5.040555                   7.839388   \n",
              "...                ...                  ...                        ...   \n",
              "4995       60567.94414             7.830362                   6.994414   \n",
              "4996       78491.27543             6.999135                   6.576763   \n",
              "4997       63390.68689             7.250591                   4.805081   \n",
              "4998       68001.33124             5.534388                   6.994414   \n",
              "4999       65510.58180             5.992305                   6.792336   \n",
              "\n",
              "      Avg. Area Number of Bedrooms  Area Population state  Price_dollar  \n",
              "0                         3.998083      23086.80050    NE  1.059034e+06  \n",
              "1                         3.090000      40173.07217    CA  1.505891e+06  \n",
              "2                         5.130000      36882.15940    WI  1.058988e+06  \n",
              "3                         3.998083      34310.24283    AP  1.260617e+06  \n",
              "4                         4.230000      26354.10947    AE  6.309435e+05  \n",
              "...                            ...              ...   ...           ...  \n",
              "4995                      3.998083      22837.36103    AP  1.060194e+06  \n",
              "4996                      4.020000      25616.11549    AA  1.482618e+06  \n",
              "4997                      2.130000      33266.14549    VA  1.030730e+06  \n",
              "4998                      3.998083      42625.62016    AE  1.198657e+06  \n",
              "4999                      4.070000      46501.28380    NV  1.298950e+06  \n",
              "\n",
              "[5000 rows x 7 columns]"
            ],
            "text/html": [
              "\n",
              "  <div id=\"df-45048270-95ac-481d-ae5e-30a1fcaa6c35\">\n",
              "    <div class=\"colab-df-container\">\n",
              "      <div>\n",
              "<style scoped>\n",
              "    .dataframe tbody tr th:only-of-type {\n",
              "        vertical-align: middle;\n",
              "    }\n",
              "\n",
              "    .dataframe tbody tr th {\n",
              "        vertical-align: top;\n",
              "    }\n",
              "\n",
              "    .dataframe thead th {\n",
              "        text-align: right;\n",
              "    }\n",
              "</style>\n",
              "<table border=\"1\" class=\"dataframe\">\n",
              "  <thead>\n",
              "    <tr style=\"text-align: right;\">\n",
              "      <th></th>\n",
              "      <th>Avg. Area Income</th>\n",
              "      <th>Avg. Area House Age</th>\n",
              "      <th>Avg. Area Number of Rooms</th>\n",
              "      <th>Avg. Area Number of Bedrooms</th>\n",
              "      <th>Area Population</th>\n",
              "      <th>state</th>\n",
              "      <th>Price_dollar</th>\n",
              "    </tr>\n",
              "  </thead>\n",
              "  <tbody>\n",
              "    <tr>\n",
              "      <th>0</th>\n",
              "      <td>79545.45857</td>\n",
              "      <td>5.976820</td>\n",
              "      <td>6.994414</td>\n",
              "      <td>3.998083</td>\n",
              "      <td>23086.80050</td>\n",
              "      <td>NE</td>\n",
              "      <td>1.059034e+06</td>\n",
              "    </tr>\n",
              "    <tr>\n",
              "      <th>1</th>\n",
              "      <td>79248.64245</td>\n",
              "      <td>6.002900</td>\n",
              "      <td>6.730821</td>\n",
              "      <td>3.090000</td>\n",
              "      <td>40173.07217</td>\n",
              "      <td>CA</td>\n",
              "      <td>1.505891e+06</td>\n",
              "    </tr>\n",
              "    <tr>\n",
              "      <th>2</th>\n",
              "      <td>61287.06718</td>\n",
              "      <td>5.865890</td>\n",
              "      <td>8.512727</td>\n",
              "      <td>5.130000</td>\n",
              "      <td>36882.15940</td>\n",
              "      <td>WI</td>\n",
              "      <td>1.058988e+06</td>\n",
              "    </tr>\n",
              "    <tr>\n",
              "      <th>3</th>\n",
              "      <td>63345.24005</td>\n",
              "      <td>7.188236</td>\n",
              "      <td>6.994414</td>\n",
              "      <td>3.998083</td>\n",
              "      <td>34310.24283</td>\n",
              "      <td>AP</td>\n",
              "      <td>1.260617e+06</td>\n",
              "    </tr>\n",
              "    <tr>\n",
              "      <th>4</th>\n",
              "      <td>59982.19723</td>\n",
              "      <td>5.040555</td>\n",
              "      <td>7.839388</td>\n",
              "      <td>4.230000</td>\n",
              "      <td>26354.10947</td>\n",
              "      <td>AE</td>\n",
              "      <td>6.309435e+05</td>\n",
              "    </tr>\n",
              "    <tr>\n",
              "      <th>...</th>\n",
              "      <td>...</td>\n",
              "      <td>...</td>\n",
              "      <td>...</td>\n",
              "      <td>...</td>\n",
              "      <td>...</td>\n",
              "      <td>...</td>\n",
              "      <td>...</td>\n",
              "    </tr>\n",
              "    <tr>\n",
              "      <th>4995</th>\n",
              "      <td>60567.94414</td>\n",
              "      <td>7.830362</td>\n",
              "      <td>6.994414</td>\n",
              "      <td>3.998083</td>\n",
              "      <td>22837.36103</td>\n",
              "      <td>AP</td>\n",
              "      <td>1.060194e+06</td>\n",
              "    </tr>\n",
              "    <tr>\n",
              "      <th>4996</th>\n",
              "      <td>78491.27543</td>\n",
              "      <td>6.999135</td>\n",
              "      <td>6.576763</td>\n",
              "      <td>4.020000</td>\n",
              "      <td>25616.11549</td>\n",
              "      <td>AA</td>\n",
              "      <td>1.482618e+06</td>\n",
              "    </tr>\n",
              "    <tr>\n",
              "      <th>4997</th>\n",
              "      <td>63390.68689</td>\n",
              "      <td>7.250591</td>\n",
              "      <td>4.805081</td>\n",
              "      <td>2.130000</td>\n",
              "      <td>33266.14549</td>\n",
              "      <td>VA</td>\n",
              "      <td>1.030730e+06</td>\n",
              "    </tr>\n",
              "    <tr>\n",
              "      <th>4998</th>\n",
              "      <td>68001.33124</td>\n",
              "      <td>5.534388</td>\n",
              "      <td>6.994414</td>\n",
              "      <td>3.998083</td>\n",
              "      <td>42625.62016</td>\n",
              "      <td>AE</td>\n",
              "      <td>1.198657e+06</td>\n",
              "    </tr>\n",
              "    <tr>\n",
              "      <th>4999</th>\n",
              "      <td>65510.58180</td>\n",
              "      <td>5.992305</td>\n",
              "      <td>6.792336</td>\n",
              "      <td>4.070000</td>\n",
              "      <td>46501.28380</td>\n",
              "      <td>NV</td>\n",
              "      <td>1.298950e+06</td>\n",
              "    </tr>\n",
              "  </tbody>\n",
              "</table>\n",
              "<p>5000 rows × 7 columns</p>\n",
              "</div>\n",
              "      <button class=\"colab-df-convert\" onclick=\"convertToInteractive('df-45048270-95ac-481d-ae5e-30a1fcaa6c35')\"\n",
              "              title=\"Convert this dataframe to an interactive table.\"\n",
              "              style=\"display:none;\">\n",
              "        \n",
              "  <svg xmlns=\"http://www.w3.org/2000/svg\" height=\"24px\"viewBox=\"0 0 24 24\"\n",
              "       width=\"24px\">\n",
              "    <path d=\"M0 0h24v24H0V0z\" fill=\"none\"/>\n",
              "    <path d=\"M18.56 5.44l.94 2.06.94-2.06 2.06-.94-2.06-.94-.94-2.06-.94 2.06-2.06.94zm-11 1L8.5 8.5l.94-2.06 2.06-.94-2.06-.94L8.5 2.5l-.94 2.06-2.06.94zm10 10l.94 2.06.94-2.06 2.06-.94-2.06-.94-.94-2.06-.94 2.06-2.06.94z\"/><path d=\"M17.41 7.96l-1.37-1.37c-.4-.4-.92-.59-1.43-.59-.52 0-1.04.2-1.43.59L10.3 9.45l-7.72 7.72c-.78.78-.78 2.05 0 2.83L4 21.41c.39.39.9.59 1.41.59.51 0 1.02-.2 1.41-.59l7.78-7.78 2.81-2.81c.8-.78.8-2.07 0-2.86zM5.41 20L4 18.59l7.72-7.72 1.47 1.35L5.41 20z\"/>\n",
              "  </svg>\n",
              "      </button>\n",
              "      \n",
              "  <style>\n",
              "    .colab-df-container {\n",
              "      display:flex;\n",
              "      flex-wrap:wrap;\n",
              "      gap: 12px;\n",
              "    }\n",
              "\n",
              "    .colab-df-convert {\n",
              "      background-color: #E8F0FE;\n",
              "      border: none;\n",
              "      border-radius: 50%;\n",
              "      cursor: pointer;\n",
              "      display: none;\n",
              "      fill: #1967D2;\n",
              "      height: 32px;\n",
              "      padding: 0 0 0 0;\n",
              "      width: 32px;\n",
              "    }\n",
              "\n",
              "    .colab-df-convert:hover {\n",
              "      background-color: #E2EBFA;\n",
              "      box-shadow: 0px 1px 2px rgba(60, 64, 67, 0.3), 0px 1px 3px 1px rgba(60, 64, 67, 0.15);\n",
              "      fill: #174EA6;\n",
              "    }\n",
              "\n",
              "    [theme=dark] .colab-df-convert {\n",
              "      background-color: #3B4455;\n",
              "      fill: #D2E3FC;\n",
              "    }\n",
              "\n",
              "    [theme=dark] .colab-df-convert:hover {\n",
              "      background-color: #434B5C;\n",
              "      box-shadow: 0px 1px 3px 1px rgba(0, 0, 0, 0.15);\n",
              "      filter: drop-shadow(0px 1px 2px rgba(0, 0, 0, 0.3));\n",
              "      fill: #FFFFFF;\n",
              "    }\n",
              "  </style>\n",
              "\n",
              "      <script>\n",
              "        const buttonEl =\n",
              "          document.querySelector('#df-45048270-95ac-481d-ae5e-30a1fcaa6c35 button.colab-df-convert');\n",
              "        buttonEl.style.display =\n",
              "          google.colab.kernel.accessAllowed ? 'block' : 'none';\n",
              "\n",
              "        async function convertToInteractive(key) {\n",
              "          const element = document.querySelector('#df-45048270-95ac-481d-ae5e-30a1fcaa6c35');\n",
              "          const dataTable =\n",
              "            await google.colab.kernel.invokeFunction('convertToInteractive',\n",
              "                                                     [key], {});\n",
              "          if (!dataTable) return;\n",
              "\n",
              "          const docLinkHtml = 'Like what you see? Visit the ' +\n",
              "            '<a target=\"_blank\" href=https://colab.research.google.com/notebooks/data_table.ipynb>data table notebook</a>'\n",
              "            + ' to learn more about interactive tables.';\n",
              "          element.innerHTML = '';\n",
              "          dataTable['output_type'] = 'display_data';\n",
              "          await google.colab.output.renderOutput(dataTable, element);\n",
              "          const docLink = document.createElement('div');\n",
              "          docLink.innerHTML = docLinkHtml;\n",
              "          element.appendChild(docLink);\n",
              "        }\n",
              "      </script>\n",
              "    </div>\n",
              "  </div>\n",
              "  "
            ]
          },
          "metadata": {},
          "execution_count": 42
        }
      ]
    },
    {
      "cell_type": "code",
      "source": [
        "def drop_outliers(df,Price_dollar):\n",
        "    iqr=1.5*(np.percentile(df['Price_dollar'],75)-np.percentile(df['Price_dollar'],25))\n",
        "    df.drop(df[df['Price_dollar'] > (iqr +np.percentile(df['Price_dollar'],75))].index,inplace=True)\n",
        "    df.drop(df[df['Price_dollar'] < (np.percentile(df['Price_dollar'],25) -iqr)].index,inplace=True)"
      ],
      "metadata": {
        "id": "umF9JKPPEeVv"
      },
      "execution_count": null,
      "outputs": []
    },
    {
      "cell_type": "code",
      "source": [
        "drop_outliers(df,'Price_dollar')\n",
        "plt.figure(figsize=(6,6))\n",
        "sns.boxplot(df['Price_dollar'])\n",
        "plt.show()"
      ],
      "metadata": {
        "colab": {
          "base_uri": "https://localhost:8080/",
          "height": 389
        },
        "id": "7JkrjE9sEhXo",
        "outputId": "d7289650-ae53-4604-d8fe-ec3a287ce7d1"
      },
      "execution_count": null,
      "outputs": [
        {
          "output_type": "display_data",
          "data": {
            "text/plain": [
              "<Figure size 432x432 with 1 Axes>"
            ],
            "image/png": "[encoded data removed]"
          },
          "metadata": {
            "needs_background": "light"
          }
        }
      ]
    },
    {
      "cell_type": "markdown",
      "source": [
        "#correlation between datapoints"
      ],
      "metadata": {
        "id": "XkmPThLaWzPb"
      }
    },
    {
      "cell_type": "code",
      "source": [
        "df.corr()[('Price_dollar')].sort_values()"
      ],
      "metadata": {
        "colab": {
          "base_uri": "https://localhost:8080/"
        },
        "id": "XDLTpLS7EpnJ",
        "outputId": "94b2a5ee-ed6f-4267-8dab-9780cb81432b"
      },
      "execution_count": null,
      "outputs": [
        {
          "output_type": "execute_result",
          "data": {
            "text/plain": [
              "Avg. Area Number of Bedrooms    0.144839\n",
              "Avg. Area Number of Rooms       0.282747\n",
              "Area Population                 0.399836\n",
              "Avg. Area House Age             0.443724\n",
              "Avg. Area Income                0.628043\n",
              "Price_dollar                    1.000000\n",
              "Name: Price_dollar, dtype: float64"
            ]
          },
          "metadata": {},
          "execution_count": 45
        }
      ]
    },
    {
      "cell_type": "code",
      "source": [
        "sns.heatmap(df.corr(),cmap='Reds',annot=True)"
      ],
      "metadata": {
        "colab": {
          "base_uri": "https://localhost:8080/",
          "height": 433
        },
        "id": "f-K2_YcOEr9e",
        "outputId": "87b4c0f0-f776-42de-802c-0d2dc4735781"
      },
      "execution_count": null,
      "outputs": [
        {
          "output_type": "execute_result",
          "data": {
            "text/plain": [
              "<matplotlib.axes._subplots.AxesSubplot at 0x7f7fc15441d0>"
            ]
          },
          "metadata": {},
          "execution_count": 46
        },
        {
          "output_type": "display_data",
          "data": {
            "text/plain": [
              "<Figure size 432x288 with 2 Axes>"
            ],
            "image/png": "[encoded data removed]"
          },
          "metadata": {
            "needs_background": "light"
          }
        }
      ]
    },
    {
      "cell_type": "code",
      "source": [
        "df.skew()"
      ],
      "metadata": {
        "colab": {
          "base_uri": "https://localhost:8080/"
        },
        "id": "cypv5bIYEuk-",
        "outputId": "da2ea912-71ce-4ac7-896b-eabd7f7f7f70"
      },
      "execution_count": null,
      "outputs": [
        {
          "output_type": "execute_result",
          "data": {
            "text/plain": [
              "Avg. Area Income               -0.053186\n",
              "Avg. Area House Age            -0.010726\n",
              "Avg. Area Number of Rooms      -0.084562\n",
              "Avg. Area Number of Bedrooms    0.453379\n",
              "Area Population                 0.057973\n",
              "Price_dollar                   -0.024453\n",
              "dtype: float64"
            ]
          },
          "metadata": {},
          "execution_count": 47
        }
      ]
    },
    {
      "cell_type": "code",
      "source": [
        "drop_outliers(df,'Price_dollar')\n",
        "plt.figure(figsize=(8,9))\n",
        "sns.distplot(df['Price_dollar'])\n",
        "plt.show()"
      ],
      "metadata": {
        "colab": {
          "base_uri": "https://localhost:8080/",
          "height": 563
        },
        "id": "KNeEMLgMExoE",
        "outputId": "5cf7796f-a0d2-4d57-a8f6-98c8207a1722"
      },
      "execution_count": null,
      "outputs": [
        {
          "output_type": "display_data",
          "data": {
            "text/plain": [
              "<Figure size 576x648 with 1 Axes>"
            ],
            "image/png": "[encoded data removed]"
          },
          "metadata": {
            "needs_background": "light"
          }
        }
      ]
    },
    {
      "cell_type": "code",
      "source": [
        "from sklearn.preprocessing import LabelEncoder\n",
        "le=LabelEncoder()\n",
        "df['state']=le.fit_transform(df['state'])"
      ],
      "metadata": {
        "id": "mKc4idOyE0Ty"
      },
      "execution_count": null,
      "outputs": []
    },
    {
      "cell_type": "code",
      "source": [
        "df['state']"
      ],
      "metadata": {
        "colab": {
          "base_uri": "https://localhost:8080/"
        },
        "id": "6ffZmF7EHHTf",
        "outputId": "7056ab4e-9632-48ba-f341-6d2a9247a9ac"
      },
      "execution_count": null,
      "outputs": [
        {
          "output_type": "execute_result",
          "data": {
            "text/plain": [
              "0       37\n",
              "1        8\n",
              "2       59\n",
              "3        4\n",
              "4        1\n",
              "        ..\n",
              "4995     4\n",
              "4996     0\n",
              "4997    55\n",
              "4998     1\n",
              "4999    41\n",
              "Name: state, Length: 4959, dtype: int64"
            ]
          },
          "metadata": {},
          "execution_count": 50
        }
      ]
    },
    {
      "cell_type": "code",
      "source": [
        "from sklearn.preprocessing import StandardScaler\n",
        "for col in df:\n",
        "    sc=StandardScaler()\n",
        "    df[col]=sc.fit_transform(df[[col]])"
      ],
      "metadata": {
        "id": "bwcoQtAwE5f7"
      },
      "execution_count": null,
      "outputs": []
    },
    {
      "cell_type": "code",
      "source": [
        "x=df.iloc[:,:-1]\n",
        "x"
      ],
      "metadata": {
        "colab": {
          "base_uri": "https://localhost:8080/",
          "height": 485
        },
        "id": "86ULlVkZE79o",
        "outputId": "5e791645-38b6-4cae-fa8e-3106fb6953ca"
      },
      "execution_count": null,
      "outputs": [
        {
          "output_type": "execute_result",
          "data": {
            "text/plain": [
              "      Avg. Area Income  Avg. Area House Age  Avg. Area Number of Rooms  \\\n",
              "0             1.046376             0.001633                  -0.000902   \n",
              "1             1.018131             0.028086                  -0.319703   \n",
              "2            -0.691114            -0.110883                   1.835412   \n",
              "3            -0.495256             1.230374                  -0.000902   \n",
              "4            -0.815287            -0.948022                   1.021046   \n",
              "...                ...                  ...                        ...   \n",
              "4995         -0.759547             1.881684                  -0.000902   \n",
              "4996          0.946059             1.038569                  -0.506028   \n",
              "4997         -0.490931             1.293621                  -2.648776   \n",
              "4998         -0.052177            -0.447126                  -0.000902   \n",
              "4999         -0.289200             0.017340                  -0.245304   \n",
              "\n",
              "      Avg. Area Number of Bedrooms  Area Population     state  \n",
              "0                         0.000582        -1.322102  0.439100  \n",
              "1                        -0.897954         0.405469 -1.121135  \n",
              "2                         1.120599         0.072729  1.622727  \n",
              "3                         0.000582        -0.187314 -1.336340  \n",
              "4                         0.230061        -0.991748 -1.497744  \n",
              "...                            ...              ...       ...  \n",
              "4995                      0.000582        -1.347322 -1.336340  \n",
              "4996                      0.022269        -1.066366 -1.551545  \n",
              "4997                     -1.847862        -0.292881  1.407522  \n",
              "4998                      0.000582         0.653443 -1.497744  \n",
              "4999                      0.071743         1.045307  0.654305  \n",
              "\n",
              "[4959 rows x 6 columns]"
            ],
            "text/html": [
              "\n",
              "  <div id=\"df-a1c11bfd-df41-4ee0-9ceb-3c05ec4501b6\">\n",
              "    <div class=\"colab-df-container\">\n",
              "      <div>\n",
              "<style scoped>\n",
              "    .dataframe tbody tr th:only-of-type {\n",
              "        vertical-align: middle;\n",
              "    }\n",
              "\n",
              "    .dataframe tbody tr th {\n",
              "        vertical-align: top;\n",
              "    }\n",
              "\n",
              "    .dataframe thead th {\n",
              "        text-align: right;\n",
              "    }\n",
              "</style>\n",
              "<table border=\"1\" class=\"dataframe\">\n",
              "  <thead>\n",
              "    <tr style=\"text-align: right;\">\n",
              "      <th></th>\n",
              "      <th>Avg. Area Income</th>\n",
              "      <th>Avg. Area House Age</th>\n",
              "      <th>Avg. Area Number of Rooms</th>\n",
              "      <th>Avg. Area Number of Bedrooms</th>\n",
              "      <th>Area Population</th>\n",
              "      <th>state</th>\n",
              "    </tr>\n",
              "  </thead>\n",
              "  <tbody>\n",
              "    <tr>\n",
              "      <th>0</th>\n",
              "      <td>1.046376</td>\n",
              "      <td>0.001633</td>\n",
              "      <td>-0.000902</td>\n",
              "      <td>0.000582</td>\n",
              "      <td>-1.322102</td>\n",
              "      <td>0.439100</td>\n",
              "    </tr>\n",
              "    <tr>\n",
              "      <th>1</th>\n",
              "      <td>1.018131</td>\n",
              "      <td>0.028086</td>\n",
              "      <td>-0.319703</td>\n",
              "      <td>-0.897954</td>\n",
              "      <td>0.405469</td>\n",
              "      <td>-1.121135</td>\n",
              "    </tr>\n",
              "    <tr>\n",
              "      <th>2</th>\n",
              "      <td>-0.691114</td>\n",
              "      <td>-0.110883</td>\n",
              "      <td>1.835412</td>\n",
              "      <td>1.120599</td>\n",
              "      <td>0.072729</td>\n",
              "      <td>1.622727</td>\n",
              "    </tr>\n",
              "    <tr>\n",
              "      <th>3</th>\n",
              "      <td>-0.495256</td>\n",
              "      <td>1.230374</td>\n",
              "      <td>-0.000902</td>\n",
              "      <td>0.000582</td>\n",
              "      <td>-0.187314</td>\n",
              "      <td>-1.336340</td>\n",
              "    </tr>\n",
              "    <tr>\n",
              "      <th>4</th>\n",
              "      <td>-0.815287</td>\n",
              "      <td>-0.948022</td>\n",
              "      <td>1.021046</td>\n",
              "      <td>0.230061</td>\n",
              "      <td>-0.991748</td>\n",
              "      <td>-1.497744</td>\n",
              "    </tr>\n",
              "    <tr>\n",
              "      <th>...</th>\n",
              "      <td>...</td>\n",
              "      <td>...</td>\n",
              "      <td>...</td>\n",
              "      <td>...</td>\n",
              "      <td>...</td>\n",
              "      <td>...</td>\n",
              "    </tr>\n",
              "    <tr>\n",
              "      <th>4995</th>\n",
              "      <td>-0.759547</td>\n",
              "      <td>1.881684</td>\n",
              "      <td>-0.000902</td>\n",
              "      <td>0.000582</td>\n",
              "      <td>-1.347322</td>\n",
              "      <td>-1.336340</td>\n",
              "    </tr>\n",
              "    <tr>\n",
              "      <th>4996</th>\n",
              "      <td>0.946059</td>\n",
              "      <td>1.038569</td>\n",
              "      <td>-0.506028</td>\n",
              "      <td>0.022269</td>\n",
              "      <td>-1.066366</td>\n",
              "      <td>-1.551545</td>\n",
              "    </tr>\n",
              "    <tr>\n",
              "      <th>4997</th>\n",
              "      <td>-0.490931</td>\n",
              "      <td>1.293621</td>\n",
              "      <td>-2.648776</td>\n",
              "      <td>-1.847862</td>\n",
              "      <td>-0.292881</td>\n",
              "      <td>1.407522</td>\n",
              "    </tr>\n",
              "    <tr>\n",
              "      <th>4998</th>\n",
              "      <td>-0.052177</td>\n",
              "      <td>-0.447126</td>\n",
              "      <td>-0.000902</td>\n",
              "      <td>0.000582</td>\n",
              "      <td>0.653443</td>\n",
              "      <td>-1.497744</td>\n",
              "    </tr>\n",
              "    <tr>\n",
              "      <th>4999</th>\n",
              "      <td>-0.289200</td>\n",
              "      <td>0.017340</td>\n",
              "      <td>-0.245304</td>\n",
              "      <td>0.071743</td>\n",
              "      <td>1.045307</td>\n",
              "      <td>0.654305</td>\n",
              "    </tr>\n",
              "  </tbody>\n",
              "</table>\n",
              "<p>4959 rows × 6 columns</p>\n",
              "</div>\n",
              "      <button class=\"colab-df-convert\" onclick=\"convertToInteractive('df-a1c11bfd-df41-4ee0-9ceb-3c05ec4501b6')\"\n",
              "              title=\"Convert this dataframe to an interactive table.\"\n",
              "              style=\"display:none;\">\n",
              "        \n",
              "  <svg xmlns=\"http://www.w3.org/2000/svg\" height=\"24px\"viewBox=\"0 0 24 24\"\n",
              "       width=\"24px\">\n",
              "    <path d=\"M0 0h24v24H0V0z\" fill=\"none\"/>\n",
              "    <path d=\"M18.56 5.44l.94 2.06.94-2.06 2.06-.94-2.06-.94-.94-2.06-.94 2.06-2.06.94zm-11 1L8.5 8.5l.94-2.06 2.06-.94-2.06-.94L8.5 2.5l-.94 2.06-2.06.94zm10 10l.94 2.06.94-2.06 2.06-.94-2.06-.94-.94-2.06-.94 2.06-2.06.94z\"/><path d=\"M17.41 7.96l-1.37-1.37c-.4-.4-.92-.59-1.43-.59-.52 0-1.04.2-1.43.59L10.3 9.45l-7.72 7.72c-.78.78-.78 2.05 0 2.83L4 21.41c.39.39.9.59 1.41.59.51 0 1.02-.2 1.41-.59l7.78-7.78 2.81-2.81c.8-.78.8-2.07 0-2.86zM5.41 20L4 18.59l7.72-7.72 1.47 1.35L5.41 20z\"/>\n",
              "  </svg>\n",
              "      </button>\n",
              "      \n",
              "  <style>\n",
              "    .colab-df-container {\n",
              "      display:flex;\n",
              "      flex-wrap:wrap;\n",
              "      gap: 12px;\n",
              "    }\n",
              "\n",
              "    .colab-df-convert {\n",
              "      background-color: #E8F0FE;\n",
              "      border: none;\n",
              "      border-radius: 50%;\n",
              "      cursor: pointer;\n",
              "      display: none;\n",
              "      fill: #1967D2;\n",
              "      height: 32px;\n",
              "      padding: 0 0 0 0;\n",
              "      width: 32px;\n",
              "    }\n",
              "\n",
              "    .colab-df-convert:hover {\n",
              "      background-color: #E2EBFA;\n",
              "      box-shadow: 0px 1px 2px rgba(60, 64, 67, 0.3), 0px 1px 3px 1px rgba(60, 64, 67, 0.15);\n",
              "      fill: #174EA6;\n",
              "    }\n",
              "\n",
              "    [theme=dark] .colab-df-convert {\n",
              "      background-color: #3B4455;\n",
              "      fill: #D2E3FC;\n",
              "    }\n",
              "\n",
              "    [theme=dark] .colab-df-convert:hover {\n",
              "      background-color: #434B5C;\n",
              "      box-shadow: 0px 1px 3px 1px rgba(0, 0, 0, 0.15);\n",
              "      filter: drop-shadow(0px 1px 2px rgba(0, 0, 0, 0.3));\n",
              "      fill: #FFFFFF;\n",
              "    }\n",
              "  </style>\n",
              "\n",
              "      <script>\n",
              "        const buttonEl =\n",
              "          document.querySelector('#df-a1c11bfd-df41-4ee0-9ceb-3c05ec4501b6 button.colab-df-convert');\n",
              "        buttonEl.style.display =\n",
              "          google.colab.kernel.accessAllowed ? 'block' : 'none';\n",
              "\n",
              "        async function convertToInteractive(key) {\n",
              "          const element = document.querySelector('#df-a1c11bfd-df41-4ee0-9ceb-3c05ec4501b6');\n",
              "          const dataTable =\n",
              "            await google.colab.kernel.invokeFunction('convertToInteractive',\n",
              "                                                     [key], {});\n",
              "          if (!dataTable) return;\n",
              "\n",
              "          const docLinkHtml = 'Like what you see? Visit the ' +\n",
              "            '<a target=\"_blank\" href=https://colab.research.google.com/notebooks/data_table.ipynb>data table notebook</a>'\n",
              "            + ' to learn more about interactive tables.';\n",
              "          element.innerHTML = '';\n",
              "          dataTable['output_type'] = 'display_data';\n",
              "          await google.colab.output.renderOutput(dataTable, element);\n",
              "          const docLink = document.createElement('div');\n",
              "          docLink.innerHTML = docLinkHtml;\n",
              "          element.appendChild(docLink);\n",
              "        }\n",
              "      </script>\n",
              "    </div>\n",
              "  </div>\n",
              "  "
            ]
          },
          "metadata": {},
          "execution_count": 52
        }
      ]
    },
    {
      "cell_type": "code",
      "source": [
        "y=df.iloc[:,-1]\n",
        "y"
      ],
      "metadata": {
        "colab": {
          "base_uri": "https://localhost:8080/"
        },
        "id": "FUgMQLL1E97K",
        "outputId": "78864c23-5acc-4ad9-dabb-4ceb5f5bef20"
      },
      "execution_count": null,
      "outputs": [
        {
          "output_type": "execute_result",
          "data": {
            "text/plain": [
              "0      -0.502982\n",
              "1       0.803623\n",
              "2      -0.503116\n",
              "3       0.086445\n",
              "4      -1.754713\n",
              "          ...   \n",
              "4995   -0.499590\n",
              "4996    0.735573\n",
              "4997   -0.585743\n",
              "4998   -0.094726\n",
              "4999    0.198532\n",
              "Name: Price_dollar, Length: 4959, dtype: float64"
            ]
          },
          "metadata": {},
          "execution_count": 53
        }
      ]
    },
    {
      "cell_type": "markdown",
      "source": [
        "#train test split data"
      ],
      "metadata": {
        "id": "5g6ER-LCWvNz"
      }
    },
    {
      "cell_type": "code",
      "source": [
        "xtrain,xtest,ytrain,ytest=train_test_split(x,y,test_size=0.3,random_state=1)"
      ],
      "metadata": {
        "id": "7hN84QhmFCKD"
      },
      "execution_count": null,
      "outputs": []
    },
    {
      "cell_type": "code",
      "source": [
        "from sklearn.linear_model import LinearRegression\n",
        "lr=LinearRegression()\n",
        "lr.fit(xtrain,ytrain)\n",
        "ypred=lr.predict(xtest)"
      ],
      "metadata": {
        "id": "bL8mJ9sKLyei"
      },
      "execution_count": null,
      "outputs": []
    },
    {
      "cell_type": "code",
      "source": [
        "from sklearn.metrics import mean_absolute_error,mean_squared_error,r2_score\n",
        "print(\"Accuracy :\",r2_score(ytest,ypred))\n",
        "print(\"MAE :\",mean_absolute_error(ytest,ypred))\n",
        "print(\"MSE :\",mean_squared_error(ytest,ypred))\n",
        "print(\"RMSE :\",np.sqrt(mean_squared_error(ytest,ypred)))"
      ],
      "metadata": {
        "colab": {
          "base_uri": "https://localhost:8080/"
        },
        "id": "K0wc-0tkOHcc",
        "outputId": "ab305dfc-eb08-4cf0-d652-0dac5a4a6b32"
      },
      "execution_count": null,
      "outputs": [
        {
          "output_type": "stream",
          "name": "stdout",
          "text": [
            "Accuracy : 0.8710880917315098\n",
            "MAE : 0.285600091680277\n",
            "MSE : 0.1319945094436124\n",
            "RMSE : 0.3633104862835814\n"
          ]
        }
      ]
    },
    {
      "cell_type": "markdown",
      "source": [
        "#now we are going to perform hyperparameter"
      ],
      "metadata": {
        "id": "RWqWNInhWr_7"
      }
    },
    {
      "cell_type": "code",
      "source": [
        "from sklearn.linear_model import Ridge,Lasso"
      ],
      "metadata": {
        "id": "cdcpE8gbOWOI"
      },
      "execution_count": null,
      "outputs": []
    },
    {
      "cell_type": "code",
      "source": [
        "for i in range(1,100):\n",
        "    l2=Ridge(alpha=i)\n",
        "    l2.fit(xtrain,ytrain)\n",
        "    print(f\"{i}={l2.score(xtest,ytest)}\")"
      ],
      "metadata": {
        "colab": {
          "base_uri": "https://localhost:8080/"
        },
        "id": "lBBZM9SgOZIg",
        "outputId": "50874e43-417b-4f1c-d769-a838f28ec683"
      },
      "execution_count": null,
      "outputs": [
        {
          "output_type": "stream",
          "name": "stdout",
          "text": [
            "1=0.8710835902235585\n",
            "2=0.8710789244475996\n",
            "3=0.8710740947298132\n",
            "4=0.871069101395703\n",
            "5=0.8710639447700971\n",
            "6=0.8710586251771507\n",
            "7=0.871053142940347\n",
            "8=0.8710474983824994\n",
            "9=0.8710416918257524\n",
            "10=0.8710357235915843\n",
            "11=0.8710295940008078\n",
            "12=0.8710233033735721\n",
            "13=0.8710168520293649\n",
            "14=0.871010240287013\n",
            "15=0.8710034684646848\n",
            "16=0.870996536879892\n",
            "17=0.87098944584949\n",
            "18=0.8709821956896813\n",
            "19=0.8709747867160154\n",
            "20=0.8709672192433913\n",
            "21=0.8709594935860592\n",
            "22=0.8709516100576213\n",
            "23=0.8709435689710345\n",
            "24=0.8709353706386107\n",
            "25=0.8709270153720193\n",
            "26=0.8709185034822885\n",
            "27=0.8709098352798067\n",
            "28=0.8709010110743242\n",
            "29=0.8708920311749547\n",
            "30=0.8708828958901771\n",
            "31=0.8708736055278364\n",
            "32=0.8708641603951461\n",
            "33=0.8708545607986888\n",
            "34=0.8708448070444186\n",
            "35=0.8708348994376618\n",
            "36=0.8708248382831193\n",
            "37=0.8708146238848674\n",
            "38=0.8708042565463595\n",
            "39=0.8707937365704278\n",
            "40=0.8707830642592845\n",
            "41=0.8707722399145237\n",
            "42=0.8707612638371224\n",
            "43=0.8707501363274422\n",
            "44=0.8707388576852312\n",
            "45=0.8707274282096246\n",
            "46=0.8707158481991469\n",
            "47=0.8707041179517132\n",
            "48=0.8706922377646305\n",
            "49=0.8706802079345992\n",
            "50=0.8706680287577147\n",
            "51=0.8706557005294687\n",
            "52=0.8706432235447508\n",
            "53=0.8706305980978498\n",
            "54=0.8706178244824552\n",
            "55=0.8706049029916585\n",
            "56=0.870591833917955\n",
            "57=0.8705786175532448\n",
            "58=0.8705652541888347\n",
            "59=0.8705517441154387\n",
            "60=0.8705380876231807\n",
            "61=0.8705242850015951\n",
            "62=0.8705103365396281\n",
            "63=0.8704962425256395\n",
            "64=0.870482003247404\n",
            "65=0.8704676189921126\n",
            "66=0.8704530900463738\n",
            "67=0.8704384166962152\n",
            "68=0.870423599227085\n",
            "69=0.8704086379238529\n",
            "70=0.8703935330708117\n",
            "71=0.8703782849516791\n",
            "72=0.8703628938495985\n",
            "73=0.8703473600471405\n",
            "74=0.8703316838263045\n",
            "75=0.8703158654685197\n",
            "76=0.8702999052546467\n",
            "77=0.8702838034649788\n",
            "78=0.8702675603792434\n",
            "79=0.8702511762766029\n",
            "80=0.8702346514356568\n",
            "81=0.8702179861344426\n",
            "82=0.8702011806504367\n",
            "83=0.8701842352605569\n",
            "84=0.8701671502411623\n",
            "85=0.8701499258680556\n",
            "86=0.8701325624164844\n",
            "87=0.8701150601611418\n",
            "88=0.8700974193761684\n",
            "89=0.8700796403351532\n",
            "90=0.870061723311135\n",
            "91=0.870043668576604\n",
            "92=0.8700254764035025\n",
            "93=0.8700071470632269\n",
            "94=0.8699886808266282\n",
            "95=0.8699700779640138\n",
            "96=0.8699513387451488\n",
            "97=0.8699324634392571\n",
            "98=0.8699134523150225\n",
            "99=0.8698943056405903\n"
          ]
        }
      ]
    },
    {
      "cell_type": "code",
      "source": [
        "l2=Ridge(alpha=1)\n",
        "l2.fit(xtrain,ytrain)\n",
        "l2.score(xtest,ytest)"
      ],
      "metadata": {
        "colab": {
          "base_uri": "https://localhost:8080/"
        },
        "id": "XNCvzVZmOdxZ",
        "outputId": "081a89d5-2a0c-4f53-8038-cae858fe0942"
      },
      "execution_count": null,
      "outputs": [
        {
          "output_type": "execute_result",
          "data": {
            "text/plain": [
              "0.8710835902235585"
            ]
          },
          "metadata": {},
          "execution_count": 59
        }
      ]
    },
    {
      "cell_type": "code",
      "source": [
        "df.head()"
      ],
      "metadata": {
        "colab": {
          "base_uri": "https://localhost:8080/",
          "height": 267
        },
        "id": "aqT0977IOjY8",
        "outputId": "66d3dd37-91a6-4100-ac2c-dbbdef6ca479"
      },
      "execution_count": null,
      "outputs": [
        {
          "output_type": "execute_result",
          "data": {
            "text/plain": [
              "   Avg. Area Income  Avg. Area House Age  Avg. Area Number of Rooms  \\\n",
              "0          1.046376             0.001633                  -0.000902   \n",
              "1          1.018131             0.028086                  -0.319703   \n",
              "2         -0.691114            -0.110883                   1.835412   \n",
              "3         -0.495256             1.230374                  -0.000902   \n",
              "4         -0.815287            -0.948022                   1.021046   \n",
              "\n",
              "   Avg. Area Number of Bedrooms  Area Population     state  Price_dollar  \n",
              "0                      0.000582        -1.322102  0.439100     -0.502982  \n",
              "1                     -0.897954         0.405469 -1.121135      0.803623  \n",
              "2                      1.120599         0.072729  1.622727     -0.503116  \n",
              "3                      0.000582        -0.187314 -1.336340      0.086445  \n",
              "4                      0.230061        -0.991748 -1.497744     -1.754713  "
            ],
            "text/html": [
              "\n",
              "  <div id=\"df-331257dc-9b8c-4957-a0fb-d5e41b3f971a\">\n",
              "    <div class=\"colab-df-container\">\n",
              "      <div>\n",
              "<style scoped>\n",
              "    .dataframe tbody tr th:only-of-type {\n",
              "        vertical-align: middle;\n",
              "    }\n",
              "\n",
              "    .dataframe tbody tr th {\n",
              "        vertical-align: top;\n",
              "    }\n",
              "\n",
              "    .dataframe thead th {\n",
              "        text-align: right;\n",
              "    }\n",
              "</style>\n",
              "<table border=\"1\" class=\"dataframe\">\n",
              "  <thead>\n",
              "    <tr style=\"text-align: right;\">\n",
              "      <th></th>\n",
              "      <th>Avg. Area Income</th>\n",
              "      <th>Avg. Area House Age</th>\n",
              "      <th>Avg. Area Number of Rooms</th>\n",
              "      <th>Avg. Area Number of Bedrooms</th>\n",
              "      <th>Area Population</th>\n",
              "      <th>state</th>\n",
              "      <th>Price_dollar</th>\n",
              "    </tr>\n",
              "  </thead>\n",
              "  <tbody>\n",
              "    <tr>\n",
              "      <th>0</th>\n",
              "      <td>1.046376</td>\n",
              "      <td>0.001633</td>\n",
              "      <td>-0.000902</td>\n",
              "      <td>0.000582</td>\n",
              "      <td>-1.322102</td>\n",
              "      <td>0.439100</td>\n",
              "      <td>-0.502982</td>\n",
              "    </tr>\n",
              "    <tr>\n",
              "      <th>1</th>\n",
              "      <td>1.018131</td>\n",
              "      <td>0.028086</td>\n",
              "      <td>-0.319703</td>\n",
              "      <td>-0.897954</td>\n",
              "      <td>0.405469</td>\n",
              "      <td>-1.121135</td>\n",
              "      <td>0.803623</td>\n",
              "    </tr>\n",
              "    <tr>\n",
              "      <th>2</th>\n",
              "      <td>-0.691114</td>\n",
              "      <td>-0.110883</td>\n",
              "      <td>1.835412</td>\n",
              "      <td>1.120599</td>\n",
              "      <td>0.072729</td>\n",
              "      <td>1.622727</td>\n",
              "      <td>-0.503116</td>\n",
              "    </tr>\n",
              "    <tr>\n",
              "      <th>3</th>\n",
              "      <td>-0.495256</td>\n",
              "      <td>1.230374</td>\n",
              "      <td>-0.000902</td>\n",
              "      <td>0.000582</td>\n",
              "      <td>-0.187314</td>\n",
              "      <td>-1.336340</td>\n",
              "      <td>0.086445</td>\n",
              "    </tr>\n",
              "    <tr>\n",
              "      <th>4</th>\n",
              "      <td>-0.815287</td>\n",
              "      <td>-0.948022</td>\n",
              "      <td>1.021046</td>\n",
              "      <td>0.230061</td>\n",
              "      <td>-0.991748</td>\n",
              "      <td>-1.497744</td>\n",
              "      <td>-1.754713</td>\n",
              "    </tr>\n",
              "  </tbody>\n",
              "</table>\n",
              "</div>\n",
              "      <button class=\"colab-df-convert\" onclick=\"convertToInteractive('df-331257dc-9b8c-4957-a0fb-d5e41b3f971a')\"\n",
              "              title=\"Convert this dataframe to an interactive table.\"\n",
              "              style=\"display:none;\">\n",
              "        \n",
              "  <svg xmlns=\"http://www.w3.org/2000/svg\" height=\"24px\"viewBox=\"0 0 24 24\"\n",
              "       width=\"24px\">\n",
              "    <path d=\"M0 0h24v24H0V0z\" fill=\"none\"/>\n",
              "    <path d=\"M18.56 5.44l.94 2.06.94-2.06 2.06-.94-2.06-.94-.94-2.06-.94 2.06-2.06.94zm-11 1L8.5 8.5l.94-2.06 2.06-.94-2.06-.94L8.5 2.5l-.94 2.06-2.06.94zm10 10l.94 2.06.94-2.06 2.06-.94-2.06-.94-.94-2.06-.94 2.06-2.06.94z\"/><path d=\"M17.41 7.96l-1.37-1.37c-.4-.4-.92-.59-1.43-.59-.52 0-1.04.2-1.43.59L10.3 9.45l-7.72 7.72c-.78.78-.78 2.05 0 2.83L4 21.41c.39.39.9.59 1.41.59.51 0 1.02-.2 1.41-.59l7.78-7.78 2.81-2.81c.8-.78.8-2.07 0-2.86zM5.41 20L4 18.59l7.72-7.72 1.47 1.35L5.41 20z\"/>\n",
              "  </svg>\n",
              "      </button>\n",
              "      \n",
              "  <style>\n",
              "    .colab-df-container {\n",
              "      display:flex;\n",
              "      flex-wrap:wrap;\n",
              "      gap: 12px;\n",
              "    }\n",
              "\n",
              "    .colab-df-convert {\n",
              "      background-color: #E8F0FE;\n",
              "      border: none;\n",
              "      border-radius: 50%;\n",
              "      cursor: pointer;\n",
              "      display: none;\n",
              "      fill: #1967D2;\n",
              "      height: 32px;\n",
              "      padding: 0 0 0 0;\n",
              "      width: 32px;\n",
              "    }\n",
              "\n",
              "    .colab-df-convert:hover {\n",
              "      background-color: #E2EBFA;\n",
              "      box-shadow: 0px 1px 2px rgba(60, 64, 67, 0.3), 0px 1px 3px 1px rgba(60, 64, 67, 0.15);\n",
              "      fill: #174EA6;\n",
              "    }\n",
              "\n",
              "    [theme=dark] .colab-df-convert {\n",
              "      background-color: #3B4455;\n",
              "      fill: #D2E3FC;\n",
              "    }\n",
              "\n",
              "    [theme=dark] .colab-df-convert:hover {\n",
              "      background-color: #434B5C;\n",
              "      box-shadow: 0px 1px 3px 1px rgba(0, 0, 0, 0.15);\n",
              "      filter: drop-shadow(0px 1px 2px rgba(0, 0, 0, 0.3));\n",
              "      fill: #FFFFFF;\n",
              "    }\n",
              "  </style>\n",
              "\n",
              "      <script>\n",
              "        const buttonEl =\n",
              "          document.querySelector('#df-331257dc-9b8c-4957-a0fb-d5e41b3f971a button.colab-df-convert');\n",
              "        buttonEl.style.display =\n",
              "          google.colab.kernel.accessAllowed ? 'block' : 'none';\n",
              "\n",
              "        async function convertToInteractive(key) {\n",
              "          const element = document.querySelector('#df-331257dc-9b8c-4957-a0fb-d5e41b3f971a');\n",
              "          const dataTable =\n",
              "            await google.colab.kernel.invokeFunction('convertToInteractive',\n",
              "                                                     [key], {});\n",
              "          if (!dataTable) return;\n",
              "\n",
              "          const docLinkHtml = 'Like what you see? Visit the ' +\n",
              "            '<a target=\"_blank\" href=https://colab.research.google.com/notebooks/data_table.ipynb>data table notebook</a>'\n",
              "            + ' to learn more about interactive tables.';\n",
              "          element.innerHTML = '';\n",
              "          dataTable['output_type'] = 'display_data';\n",
              "          await google.colab.output.renderOutput(dataTable, element);\n",
              "          const docLink = document.createElement('div');\n",
              "          docLink.innerHTML = docLinkHtml;\n",
              "          element.appendChild(docLink);\n",
              "        }\n",
              "      </script>\n",
              "    </div>\n",
              "  </div>\n",
              "  "
            ]
          },
          "metadata": {},
          "execution_count": 60
        }
      ]
    },
    {
      "cell_type": "code",
      "source": [
        "def mymodel(model):\n",
        "    model.fit(xtrain,ytrain)\n",
        "    ypred=model.predict(xtest)\n",
        "    print(\"Accuracy :\",r2_score(ytest,ypred))\n",
        "    print(\"MAE :\",mean_absolute_error(ytest,ypred))\n",
        "    print(\"MSE :\",mean_squared_error(ytest,ypred))\n",
        "    print(\"RMSE :\",np.sqrt(mean_squared_error(ytest,ypred)))\n",
        "    return model"
      ],
      "metadata": {
        "id": "Zwmg937zOlZI"
      },
      "execution_count": null,
      "outputs": []
    },
    {
      "cell_type": "code",
      "source": [
        "from sklearn.svm import SVR\n",
        "svm=SVR()\n",
        "svm.fit(xtrain,ytrain)\n",
        "ypred=svm.predict(xtest)"
      ],
      "metadata": {
        "id": "wqQcUCx2Orqu"
      },
      "execution_count": null,
      "outputs": []
    },
    {
      "cell_type": "code",
      "source": [
        "mymodel(svm)"
      ],
      "metadata": {
        "id": "NalN8d02FmvW",
        "colab": {
          "base_uri": "https://localhost:8080/"
        },
        "outputId": "792b0f73-142d-4976-9e9a-c6844f7a7bc7"
      },
      "execution_count": null,
      "outputs": [
        {
          "output_type": "stream",
          "name": "stdout",
          "text": [
            "Accuracy : 0.8592772611447483\n",
            "MAE : 0.3003939395084191\n",
            "MSE : 0.14408776607413473\n",
            "RMSE : 0.3795889435614988\n"
          ]
        },
        {
          "output_type": "execute_result",
          "data": {
            "text/plain": [
              "SVR()"
            ]
          },
          "metadata": {},
          "execution_count": 63
        }
      ]
    },
    {
      "cell_type": "code",
      "source": [
        "svm=SVR(kernel='linear')\n",
        "mymodel(svm)"
      ],
      "metadata": {
        "colab": {
          "base_uri": "https://localhost:8080/"
        },
        "id": "0jdOxCdAUcCD",
        "outputId": "b7d77511-1657-422f-a4ec-1ac9a5111e9c"
      },
      "execution_count": null,
      "outputs": [
        {
          "output_type": "stream",
          "name": "stdout",
          "text": [
            "Accuracy : 0.8714905378477219\n",
            "MAE : 0.28547405473590576\n",
            "MSE : 0.13158243984972928\n",
            "RMSE : 0.36274293907632343\n"
          ]
        },
        {
          "output_type": "execute_result",
          "data": {
            "text/plain": [
              "SVR(kernel='linear')"
            ]
          },
          "metadata": {},
          "execution_count": 64
        }
      ]
    },
    {
      "cell_type": "code",
      "source": [
        "svm=SVR(kernel='rbf')\n",
        "mymodel(svm)"
      ],
      "metadata": {
        "colab": {
          "base_uri": "https://localhost:8080/"
        },
        "id": "9NbsOHg4UfsN",
        "outputId": "7fb61976-f232-4223-bf8c-43d6509b3f68"
      },
      "execution_count": null,
      "outputs": [
        {
          "output_type": "stream",
          "name": "stdout",
          "text": [
            "Accuracy : 0.8592772611447483\n",
            "MAE : 0.3003939395084191\n",
            "MSE : 0.14408776607413473\n",
            "RMSE : 0.3795889435614988\n"
          ]
        },
        {
          "output_type": "execute_result",
          "data": {
            "text/plain": [
              "SVR()"
            ]
          },
          "metadata": {},
          "execution_count": 65
        }
      ]
    },
    {
      "cell_type": "code",
      "source": [
        "svm=SVR(kernel='sigmoid')\n",
        "mymodel(svm)"
      ],
      "metadata": {
        "colab": {
          "base_uri": "https://localhost:8080/"
        },
        "id": "PvM7UGNkUivl",
        "outputId": "60ccbc76-0253-4cf3-cc80-e27a8d4e938b"
      },
      "execution_count": null,
      "outputs": [
        {
          "output_type": "stream",
          "name": "stdout",
          "text": [
            "Accuracy : -505.9495268658985\n",
            "MAE : 15.113097688357312\n",
            "MSE : 519.0719384276741\n",
            "RMSE : 22.78315031833118\n"
          ]
        },
        {
          "output_type": "execute_result",
          "data": {
            "text/plain": [
              "SVR(kernel='sigmoid')"
            ]
          },
          "metadata": {},
          "execution_count": 66
        }
      ]
    },
    {
      "cell_type": "code",
      "source": [
        "svm=SVR(kernel='poly')\n",
        "mymodel(svm)"
      ],
      "metadata": {
        "colab": {
          "base_uri": "https://localhost:8080/"
        },
        "id": "ZAo_d3MiUm--",
        "outputId": "fa47157d-c43c-4ba4-9e3a-36a2398c1329"
      },
      "execution_count": null,
      "outputs": [
        {
          "output_type": "stream",
          "name": "stdout",
          "text": [
            "Accuracy : 0.6994680133368953\n",
            "MAE : 0.42102966895156296\n",
            "MSE : 0.3077184465308775\n",
            "RMSE : 0.5547237569555477\n"
          ]
        },
        {
          "output_type": "execute_result",
          "data": {
            "text/plain": [
              "SVR(kernel='poly')"
            ]
          },
          "metadata": {},
          "execution_count": 67
        }
      ]
    },
    {
      "cell_type": "code",
      "source": [
        "from sklearn.model_selection import GridSearchCV"
      ],
      "metadata": {
        "id": "IPS-cBIXUsX4"
      },
      "execution_count": null,
      "outputs": []
    },
    {
      "cell_type": "code",
      "source": [
        "parameters={'C' : [1,100],'gamma' : [0.1,0.01],'kernel' : ['rbf']}"
      ],
      "metadata": {
        "id": "ta0K5d63Uvpo"
      },
      "execution_count": null,
      "outputs": []
    },
    {
      "cell_type": "code",
      "source": [
        "grid=GridSearchCV(SVR(),parameters,verbose=2)\n",
        "grid.fit(xtrain,ytrain)"
      ],
      "metadata": {
        "colab": {
          "base_uri": "https://localhost:8080/"
        },
        "id": "tJNV9z9eUx6Q",
        "outputId": "53c63d88-d909-4e21-f2df-49a82dbdfcb7"
      },
      "execution_count": null,
      "outputs": [
        {
          "output_type": "stream",
          "name": "stdout",
          "text": [
            "Fitting 5 folds for each of 4 candidates, totalling 20 fits\n",
            "[CV] END .........................C=1, gamma=0.1, kernel=rbf; total time=   2.3s\n",
            "[CV] END .........................C=1, gamma=0.1, kernel=rbf; total time=   1.4s\n",
            "[CV] END .........................C=1, gamma=0.1, kernel=rbf; total time=   1.3s\n",
            "[CV] END .........................C=1, gamma=0.1, kernel=rbf; total time=   1.6s\n",
            "[CV] END .........................C=1, gamma=0.1, kernel=rbf; total time=   1.5s\n",
            "[CV] END ........................C=1, gamma=0.01, kernel=rbf; total time=   1.4s\n",
            "[CV] END ........................C=1, gamma=0.01, kernel=rbf; total time=   1.2s\n",
            "[CV] END ........................C=1, gamma=0.01, kernel=rbf; total time=   1.2s\n",
            "[CV] END ........................C=1, gamma=0.01, kernel=rbf; total time=   1.1s\n",
            "[CV] END ........................C=1, gamma=0.01, kernel=rbf; total time=   1.0s\n",
            "[CV] END .......................C=100, gamma=0.1, kernel=rbf; total time=   9.2s\n",
            "[CV] END .......................C=100, gamma=0.1, kernel=rbf; total time=   6.6s\n",
            "[CV] END .......................C=100, gamma=0.1, kernel=rbf; total time=   6.6s\n",
            "[CV] END .......................C=100, gamma=0.1, kernel=rbf; total time=   7.0s\n",
            "[CV] END .......................C=100, gamma=0.1, kernel=rbf; total time=   6.3s\n",
            "[CV] END ......................C=100, gamma=0.01, kernel=rbf; total time=   1.2s\n",
            "[CV] END ......................C=100, gamma=0.01, kernel=rbf; total time=   1.3s\n",
            "[CV] END ......................C=100, gamma=0.01, kernel=rbf; total time=   1.2s\n",
            "[CV] END ......................C=100, gamma=0.01, kernel=rbf; total time=   1.2s\n",
            "[CV] END ......................C=100, gamma=0.01, kernel=rbf; total time=   1.2s\n"
          ]
        },
        {
          "output_type": "execute_result",
          "data": {
            "text/plain": [
              "GridSearchCV(estimator=SVR(),\n",
              "             param_grid={'C': [1, 100], 'gamma': [0.1, 0.01],\n",
              "                         'kernel': ['rbf']},\n",
              "             verbose=2)"
            ]
          },
          "metadata": {},
          "execution_count": 70
        }
      ]
    },
    {
      "cell_type": "code",
      "source": [
        "grid.best_params_"
      ],
      "metadata": {
        "colab": {
          "base_uri": "https://localhost:8080/"
        },
        "id": "IaZFnrSUU0Du",
        "outputId": "8c6bbf3b-2f12-4608-8f09-828264b4c1a7"
      },
      "execution_count": null,
      "outputs": [
        {
          "output_type": "execute_result",
          "data": {
            "text/plain": [
              "{'C': 1, 'gamma': 0.01, 'kernel': 'rbf'}"
            ]
          },
          "metadata": {},
          "execution_count": 71
        }
      ]
    },
    {
      "cell_type": "code",
      "source": [
        "ac=r2_score(ytest,ypred)\n",
        "ac"
      ],
      "metadata": {
        "colab": {
          "base_uri": "https://localhost:8080/"
        },
        "id": "j6h-taVlWFe5",
        "outputId": "ebfcb179-d1af-41b1-99ee-338ad2a84c36"
      },
      "execution_count": null,
      "outputs": [
        {
          "output_type": "execute_result",
          "data": {
            "text/plain": [
              "0.8592772611447483"
            ]
          },
          "metadata": {},
          "execution_count": 72
        }
      ]
    },
    {
      "cell_type": "markdown",
      "source": [
        "# User Input"
      ],
      "metadata": {
        "id": "2d41VYmYWlGZ"
      }
    },
    {
      "cell_type": "code",
      "source": [
        "Income=input(\"Enter your Income :\")\n",
        "House_Age=input(\"Enter your House_Age :\")\n",
        "No_Rooms=input(\"Enter your No_Rooms :\")\n",
        "No_Bedrooms=input(\"Enter your No_Bedrooms :\")\n",
        "Population=input(\"Enter your Population :\")\n",
        "State=input(\"Enter your State :\")\n",
        "\n",
        "data=[Income,House_Age,No_Rooms,No_Bedrooms,Population,State]\n",
        "\n",
        "print((l2.predict([data])),end=\"\")"
      ],
      "metadata": {
        "colab": {
          "base_uri": "https://localhost:8080/"
        },
        "id": "qINEoNqSWMMx",
        "outputId": "df28404d-c0d7-4f41-b782-8f7fc3a2c9aa"
      },
      "execution_count": null,
      "outputs": [
        {
          "output_type": "stream",
          "name": "stdout",
          "text": [
            "Enter your Income :40000\n",
            "Enter your House_Age :20\n",
            "Enter your No_Rooms :4\n",
            "Enter your No_Bedrooms :3\n",
            "Enter your Population :5\n",
            "Enter your State :3\n",
            "[26056.1648274]"
          ]
        }
      ]
    }
  ]
}